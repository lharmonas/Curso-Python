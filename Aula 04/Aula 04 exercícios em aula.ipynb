{
 "cells": [
  {
   "cell_type": "code",
   "execution_count": 10,
   "metadata": {},
   "outputs": [
    {
     "name": "stdout",
     "output_type": "stream",
     "text": [
      "2023-07-27\n",
      "2023-07-27 20:17:18.220615\n",
      "27-07-23\n"
     ]
    }
   ],
   "source": [
    "from datetime import date, datetime\n",
    "\n",
    "print(date.today())\n",
    "print (datetime.now())\n",
    "\n",
    "print(datetime.now().strftime(\"%d-%m-%y\"))"
   ]
  },
  {
   "cell_type": "markdown",
   "metadata": {},
   "source": [
    "Crie uma função lambda chamada ```eh_multiplo_dez()``` que retorna ```True``` se um determinado número é múltiplo de 10 e ```False``` caso contrário"
   ]
  },
  {
   "cell_type": "code",
   "execution_count": 13,
   "metadata": {},
   "outputs": [
    {
     "data": {
      "text/plain": [
       "False"
      ]
     },
     "execution_count": 13,
     "metadata": {},
     "output_type": "execute_result"
    }
   ],
   "source": [
    "eh_multiplo_dez = lambda x: (x % 10) == 0\n",
    "eh_multiplo_dez ( int(input('Qual número você gostaria de validar se é múltiplo de 10?')))"
   ]
  },
  {
   "cell_type": "markdown",
   "metadata": {},
   "source": [
    "Converta o programa de cálculo de fatorial da aula anterior para uma função. A função recebe como argumento o n e retorna o fatorial de n."
   ]
  },
  {
   "cell_type": "code",
   "execution_count": 16,
   "metadata": {},
   "outputs": [
    {
     "name": "stdout",
     "output_type": "stream",
     "text": [
      "2432902008176640000\n"
     ]
    }
   ],
   "source": [
    "def calcula_fatorial (numero_input):\n",
    "    fatorial = 1\n",
    "    for i in range(1, numero_input+1):\n",
    "        fatorial *= i\n",
    "    return fatorial\n",
    "\n",
    "\n",
    "numero = int(input('Digite um número para calcular o fatorial:'))\n",
    "print(calcula_fatorial(numero))"
   ]
  },
  {
   "cell_type": "markdown",
   "metadata": {},
   "source": [
    "Crie uma função primeiro_nome que recebe uma string nome completo e retorna somente o primeiro nome. Em seguida, use a função map para aplicar a função a uma lista de strings:\n",
    "\n",
    "```nomes = ['João Carlos', 'Maria Eduarda', 'Ana Rute', 'Ana Clara'```\n"
   ]
  },
  {
   "cell_type": "code",
   "execution_count": 29,
   "metadata": {},
   "outputs": [
    {
     "name": "stdout",
     "output_type": "stream",
     "text": [
      "['João', 'Maria', 'Ana', 'Ana', 'Ana', 'Lucas']\n"
     ]
    }
   ],
   "source": [
    "def primeiro_nome (nome_input):\n",
    "    return (nome_input.split(' ')[0])\n",
    "\n",
    "nomes = ['João Carlos', 'Maria Eduarda', 'Ana Rute', 'Ana Clara', 'Ana Maria Braga', 'Lucas Henrique Armonas']\n",
    "print( list( map (primeiro_nome, nomes)))\n",
    "\n"
   ]
  },
  {
   "cell_type": "markdown",
   "metadata": {},
   "source": [
    "Escreva uma função que receba uma data no formato dd/mm/aaaa e retorne o dia da semana correspondente (Monday, Tuesday, etc.)."
   ]
  },
  {
   "cell_type": "code",
   "execution_count": 33,
   "metadata": {},
   "outputs": [
    {
     "name": "stdout",
     "output_type": "stream",
     "text": [
      "Thursday\n"
     ]
    }
   ],
   "source": [
    "\n",
    "def retorno_dia_semana (dia_input):\n",
    "    from datetime import date\n",
    "    dia_da_semana = datetime.strptime (dia_input,'%d/%m/%Y')\n",
    "    return ( dia_da_semana.strftime('%A') )\n",
    "\n",
    "print(retorno_dia_semana(input('Indique qual a data em formato dd/mm/aaaa você quer')))"
   ]
  }
 ],
 "metadata": {
  "kernelspec": {
   "display_name": "Python 3",
   "language": "python",
   "name": "python3"
  },
  "language_info": {
   "codemirror_mode": {
    "name": "ipython",
    "version": 3
   },
   "file_extension": ".py",
   "mimetype": "text/x-python",
   "name": "python",
   "nbconvert_exporter": "python",
   "pygments_lexer": "ipython3",
   "version": "3.11.4"
  },
  "orig_nbformat": 4
 },
 "nbformat": 4,
 "nbformat_minor": 2
}
