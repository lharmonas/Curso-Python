{
 "cells": [
  {
   "cell_type": "code",
   "execution_count": 13,
   "metadata": {},
   "outputs": [],
   "source": [
    "import sqlite3\n",
    "import pandas as pd"
   ]
  },
  {
   "cell_type": "code",
   "execution_count": 19,
   "metadata": {},
   "outputs": [],
   "source": [
    "def tabelas_db():\n",
    "    conn = sqlite3.connect('coderhouse.db')\n",
    "    query = \"SELECT name FROM sqlite_master WHERE type='table'\"\n",
    "    schema = pd.read_sql(query, conn)\n",
    "    print(schema)\n",
    "    conn.close()\n",
    "    return None\n",
    "\n",
    "def salva_db(df, nome_tabela):\n",
    "    conn = sqlite3.connect('coderhouse.db')\n",
    "    df.to_sql(nome_tabela, conn, if_exists='replace', index=False)\n",
    "    conn.close()\n",
    "    return None\n",
    "\n",
    "def carrega_db(nome_tabela):\n",
    "    conn = sqlite3.connect('coderhouse.db')\n",
    "    query = (f'SELECT * FROM {nome_tabela}')\n",
    "    df = pd.read_sql(query, conn)\n",
    "    conn.close()\n",
    "    return(df)"
   ]
  },
  {
   "cell_type": "code",
   "execution_count": 20,
   "metadata": {},
   "outputs": [
    {
     "name": "stdout",
     "output_type": "stream",
     "text": [
      "           name\n",
      "0      produtos\n",
      "1      fastfood\n",
      "2  restaurantes\n"
     ]
    }
   ],
   "source": [
    "tabelas_db()"
   ]
  },
  {
   "cell_type": "code",
   "execution_count": null,
   "metadata": {},
   "outputs": [],
   "source": [
    "df_teste = carrega_db('fastfood')\n",
    "df_teste"
   ]
  },
  {
   "cell_type": "code",
   "execution_count": 15,
   "metadata": {},
   "outputs": [],
   "source": [
    "df_teste2 = pd.read_excel('fastfood.xlsx')\n",
    "salva_db(df_teste2, 'restaurantes')"
   ]
  }
 ],
 "metadata": {
  "kernelspec": {
   "display_name": "Python 3",
   "language": "python",
   "name": "python3"
  },
  "language_info": {
   "codemirror_mode": {
    "name": "ipython",
    "version": 3
   },
   "file_extension": ".py",
   "mimetype": "text/x-python",
   "name": "python",
   "nbconvert_exporter": "python",
   "pygments_lexer": "ipython3",
   "version": "3.11.4"
  },
  "orig_nbformat": 4
 },
 "nbformat": 4,
 "nbformat_minor": 2
}
