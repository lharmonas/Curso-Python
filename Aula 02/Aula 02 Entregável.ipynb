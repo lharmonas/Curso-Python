{
 "cells": [
  {
   "cell_type": "markdown",
   "metadata": {},
   "source": [
    "## Atividade 01\n",
    "Crie uma variável chamada saldo e atribua o valor de 950,60. Em seguida, pergunte ao usuário quanto dinheiro ele deseja sacar e armazene a resposta em uma variável chamada saque. Subtraia o valor de saque do valor de saldo e imprima a mensagem \"Seu novo saldo é {saldo}.\""
   ]
  },
  {
   "cell_type": "code",
   "execution_count": 22,
   "metadata": {},
   "outputs": [
    {
     "name": "stdout",
     "output_type": "stream",
     "text": [
      "Você tem 950.6 disponíveis para o saque.\n",
      "\n"
     ]
    }
   ],
   "source": [
    "## Seta o saldo inicial conforme enunciado\n",
    "saldo = 950.60\n",
    "print(f'Você tem {saldo} disponíveis para o saque.\\n')\n",
    "\n",
    "## Busca input do user do quanto deseja retirar\n",
    "retirada = float(input('Quanto você deseja sacar do seu saldo?'))\n",
    "\n",
    "## aplica a retirada no saldo\n",
    "saldo -= retirada\n",
    "\n",
    "## Informa o novo saldo ao usuário\n",
    "print(f'Seu novo saldo é de: {round(saldo, 2)}')"
   ]
  },
  {
   "cell_type": "markdown",
   "metadata": {},
   "source": [
    "## Atividade 2\n",
    "Faça um programa que crie uma lista com 5 frutas e permita que o usuário digite o nome de uma fruta. Se for uma fruta repetida deverá ser desconsiderada. "
   ]
  },
  {
   "cell_type": "code",
   "execution_count": 29,
   "metadata": {},
   "outputs": [],
   "source": [
    "set_frutas = {'maçã', 'laranja', 'banana', 'goiaba', 'melão'}"
   ]
  },
  {
   "cell_type": "code",
   "execution_count": 33,
   "metadata": {},
   "outputs": [
    {
     "name": "stdout",
     "output_type": "stream",
     "text": [
      "Sua nova listagem de frutas distintas é: {'goiaba', 'banana', 'limão', 'laranja', 'abacate', 'maçã', 'melão'}\n"
     ]
    }
   ],
   "source": [
    "nova_fruta = input('Insira o valor de uma nova fruta.')\n",
    "set_frutas.add(nova_fruta)\n",
    "\n",
    "print(f'Sua nova listagem de frutas distintas é: {set_frutas}')"
   ]
  },
  {
   "cell_type": "markdown",
   "metadata": {},
   "source": [
    "## Atividade 03\n",
    "Faça um programa que peça ao usuário para digitar uma frase e substitua todas as vogais por asteriscos (*)."
   ]
  },
  {
   "cell_type": "code",
   "execution_count": 35,
   "metadata": {},
   "outputs": [
    {
     "name": "stdout",
     "output_type": "stream",
     "text": [
      "t*st* *c*b*p*y*\n"
     ]
    }
   ],
   "source": [
    "frase_usuario = input ('Digite uma frase, por favor:\\n')\n",
    "\n",
    "frase_usuario = frase_usuario.replace('a', '*').replace('e','*').replace('i','*').replace('o','*').replace('u','*')\n",
    "print(frase_usuario)"
   ]
  }
 ],
 "metadata": {
  "kernelspec": {
   "display_name": "Python 3",
   "language": "python",
   "name": "python3"
  },
  "language_info": {
   "codemirror_mode": {
    "name": "ipython",
    "version": 3
   },
   "file_extension": ".py",
   "mimetype": "text/x-python",
   "name": "python",
   "nbconvert_exporter": "python",
   "pygments_lexer": "ipython3",
   "version": "3.11.4"
  },
  "orig_nbformat": 4
 },
 "nbformat": 4,
 "nbformat_minor": 2
}
