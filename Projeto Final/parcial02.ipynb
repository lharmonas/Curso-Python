{
 "cells": [
  {
   "cell_type": "code",
   "execution_count": 11,
   "metadata": {},
   "outputs": [],
   "source": [
    "## Importa bibliotecas necessárias\n",
    "from plyer import notification\n",
    "from datetime import datetime\n",
    "import numpy as np\n",
    "import pandas as pd\n",
    "import requests\n",
    "from funcoes import *\n",
    "import time \n",
    "import sqlite3"
   ]
  },
  {
   "cell_type": "markdown",
   "metadata": {},
   "source": [
    "### Fase de carregamento de dados:"
   ]
  },
  {
   "cell_type": "code",
   "execution_count": 12,
   "metadata": {},
   "outputs": [],
   "source": [
    "## Carrega informações de estados brasileiros\n",
    "df_estados_raw = carregar_dados_estados()"
   ]
  },
  {
   "cell_type": "code",
   "execution_count": 13,
   "metadata": {},
   "outputs": [],
   "source": [
    "## Carrega informações de todas as cidades de todos os estados brasileiros, utilizando dataframe anterior como input para carregar as informações\n",
    "\n",
    "df_cidades_raw = pd.DataFrame(columns = ['Nome Cidade', 'Cód. IBGE Cidade', 'Sigla Estado'])\n",
    "\n",
    "for estado in df_estados_raw['sigla']:\n",
    "    # Para cada estado da nação, ele carrega as informações em um dataframe auxiliar 'df_aux'\n",
    "    df_aux = carregar_dados_cidades(estado)\n",
    "    df_aux['Sigla Estado'] = estado\n",
    "    df_aux.columns = ['Nome Cidade', 'Cód. IBGE Cidade', 'Sigla Estado']\n",
    "    # e depois vai concatenando as informações em um único dataframe 'df_cidades_raw'\n",
    "    df_cidades_raw = pd.concat([df_cidades_raw, df_aux], ignore_index= True)\n"
   ]
  },
  {
   "cell_type": "code",
   "execution_count": 14,
   "metadata": {},
   "outputs": [],
   "source": [
    "## Carrega informações para criar uma base de dados de todos os DDDs nacionais, utilizando a mesma estratégia para criar o dataframe 'df_cidades_curated'\n",
    "df_DDD_raw = pd.DataFrame(columns = ['Estado', 'Cidade', 'DDD'])\n",
    "\n",
    "# Obs: Para evitar tentar buscar DDDs inválidos, foi pesquisado quais são os DDDs válidos atuais e são extraídas informações somente destes DDDs\n",
    "DDDs_validos = ['11', '12', '13', '14', '15', '16', '17', '18', '19', '21', '22', '24', '27', '28', '31', '32', '33', '34', '35', '37', '38', '41', '42', '43', '44', '45', '46', '47', '48', '49', '51', '53', '54', '55', '61', '62', '63', '64', '65', '66', '67', '68', '69', '71', '73', '74', '75', '77', '79', '81', '82', '83', '84', '85', '86', '87', '88', '89', '91', '92', '93', '94', '95', '96', '97', '98', '99']\n",
    "for i in DDDs_validos:\n",
    "    df_aux = carregar_info_DDDs(i)\n",
    "    if type(df_aux) == tuple:\n",
    "        # Caso o DDD pesquisado seja inválido, continua para o próximo a ser pesquisado\n",
    "        pass\n",
    "    else:\n",
    "        df_aux['DDD'] = i\n",
    "        df_aux.columns = ['Estado', 'Cidade', 'DDD']\n",
    "        df_DDD_raw = pd.concat([df_DDD_raw, df_aux], ignore_index = True)\n",
    "        # Foi necessário incluir um intervalo de 1s para conseguirmos buscar a base completa de DDDs do site brasilapi\n",
    "        time.sleep(1)"
   ]
  },
  {
   "cell_type": "code",
   "execution_count": 15,
   "metadata": {},
   "outputs": [],
   "source": [
    "## Carrega dados adicionais retirados do site do IBGE para compor dados de todos os municípios do Brasil.\n",
    "## Dados disponíveis em: https://www.ibge.gov.br/estatisticas/sociais/populacao/22827-censo-demografico-2022.html?=&t=downloads\n",
    "\n",
    "df_pop_raw = pd.read_excel('POP2022_Municipios_20230622.xls', sheet_name='Municípios', header=1)"
   ]
  },
  {
   "cell_type": "markdown",
   "metadata": {},
   "source": [
    "### Grava base de dados raw:"
   ]
  },
  {
   "cell_type": "code",
   "execution_count": 16,
   "metadata": {},
   "outputs": [],
   "source": [
    "salva_db(df_estados_raw, 'dados_raw.db', 'estados_raw')\n",
    "salva_db(df_cidades_raw, 'dados_raw.db', 'cidades_raw')\n",
    "salva_db(df_DDD_raw, 'dados_raw.db', 'DDDs_raw')\n",
    "salva_db(df_pop_raw, 'dados_raw.db', 'populacao_raw')"
   ]
  },
  {
   "cell_type": "markdown",
   "metadata": {},
   "source": [
    "### Leitura da base de dados raw:"
   ]
  },
  {
   "cell_type": "code",
   "execution_count": 17,
   "metadata": {},
   "outputs": [],
   "source": [
    "df_estados = carrega_db('dados_raw.db', 'estados_raw')\n",
    "df_cidades = carrega_db('dados_raw.db', 'cidades_raw')\n",
    "df_DDD = carrega_db('dados_raw.db', 'DDDs_raw')\n",
    "df_pop = carrega_db('dados_raw.db', 'populacao_raw')"
   ]
  },
  {
   "cell_type": "markdown",
   "metadata": {},
   "source": [
    "### Fase de tratamento de dados:"
   ]
  },
  {
   "cell_type": "code",
   "execution_count": 18,
   "metadata": {},
   "outputs": [],
   "source": [
    "## Planilha do IBGE possui rodapé que não contém dados da POPULAÇÃO. Estamos removendo essas linhas desnecessárias\n",
    "df_pop = df_pop.dropna(subset = 'POPULAÇÃO')"
   ]
  },
  {
   "cell_type": "code",
   "execution_count": 19,
   "metadata": {},
   "outputs": [],
   "source": [
    "## Padronizando Dtypes que estavam como números para strings\n",
    "\n",
    "df_estados['id'] = df_estados['id'].astype(str)\n",
    "df_pop['COD. UF'] = df_pop['COD. UF'].astype(int).astype(str)\n",
    "df_pop['COD. MUNIC'] = df_pop['COD. MUNIC'].astype(int).astype(str)\n",
    "df_pop['POPULAÇÃO'] = df_pop['POPULAÇÃO'].astype(str)"
   ]
  },
  {
   "cell_type": "code",
   "execution_count": 20,
   "metadata": {},
   "outputs": [],
   "source": [
    "## Padronizando sempre utilizar caixa alta para textos nos dataframes\n",
    "caixa_alta = lambda df_aux: df_aux.apply(lambda x: x.str.upper() if x.dtype == 'object' else x)\n",
    "\n",
    "df_estados = caixa_alta(df_estados)\n",
    "df_cidades = caixa_alta(df_cidades)\n",
    "df_DDD = caixa_alta(df_DDD)\n",
    "df_pop = caixa_alta(df_pop)"
   ]
  },
  {
   "cell_type": "code",
   "execution_count": 21,
   "metadata": {},
   "outputs": [],
   "source": [
    "## Dados do arquivo do IBGE estavam com casos como o exemplo a seguir:\n",
    "\"\"\"\n",
    "37.464\n",
    "461.748(1)\n",
    "19.316\n",
    "3.476\n",
    "\"\"\"\n",
    "# Queremos retirar os pontos '.' e também tratar os casos que contém parênteses, para depois transformar os dados para inteiro:\n",
    "df_pop['POPULAÇÃO'] = df_pop['POPULAÇÃO'].str.replace('.', '')\n",
    "\n",
    "# Função lambda que retorna a string até a abertura de parêntese caso houver\n",
    "string_ate_parentese = lambda texto: texto.split('(')[0] if '(' in texto else texto\n",
    "df_pop['POPULAÇÃO'] = list(map(string_ate_parentese, df_pop['POPULAÇÃO']))\n",
    "\n",
    "# Transforma os dados para inteiro novamente\n",
    "df_pop['POPULAÇÃO'] = df_pop['POPULAÇÃO'].astype(int)"
   ]
  },
  {
   "cell_type": "code",
   "execution_count": 22,
   "metadata": {},
   "outputs": [],
   "source": [
    "## Criação de coluna Cód.IBGE Cidade debtri do dataframe que contém dados de população (necessário futuramente para conectar com dataframe de cidades)\n",
    "df_pop['Cód. IBGE Cidade'] = df_pop['COD. UF'] + df_pop['COD. MUNIC'].str.zfill(5)"
   ]
  },
  {
   "cell_type": "code",
   "execution_count": 23,
   "metadata": {},
   "outputs": [],
   "source": [
    "## Renomeando colunas\n",
    "df_estados.columns = ['ID', 'Sigla', 'Nome', 'Região']\n",
    "df_pop.columns = ['UF', 'Cód. UF', 'Cód. Município', 'Nome Município', 'População', 'Cód. IBGE Cidade']"
   ]
  },
  {
   "cell_type": "code",
   "execution_count": 29,
   "metadata": {},
   "outputs": [
    {
     "name": "stdout",
     "output_type": "stream",
     "text": [
      "<class 'pandas.core.frame.DataFrame'>\n",
      "RangeIndex: 27 entries, 0 to 26\n",
      "Data columns (total 4 columns):\n",
      " #   Column  Non-Null Count  Dtype \n",
      "---  ------  --------------  ----- \n",
      " 0   ID      27 non-null     object\n",
      " 1   Sigla   27 non-null     object\n",
      " 2   Nome    27 non-null     object\n",
      " 3   Região  27 non-null     object\n",
      "dtypes: object(4)\n",
      "memory usage: 996.0+ bytes\n"
     ]
    }
   ],
   "source": [
    "df_estados.info()"
   ]
  },
  {
   "cell_type": "code",
   "execution_count": 30,
   "metadata": {},
   "outputs": [
    {
     "name": "stdout",
     "output_type": "stream",
     "text": [
      "<class 'pandas.core.frame.DataFrame'>\n",
      "RangeIndex: 5570 entries, 0 to 5569\n",
      "Data columns (total 3 columns):\n",
      " #   Column            Non-Null Count  Dtype \n",
      "---  ------            --------------  ----- \n",
      " 0   Nome Cidade       5570 non-null   object\n",
      " 1   Cód. IBGE Cidade  5570 non-null   object\n",
      " 2   Sigla Estado      5570 non-null   object\n",
      "dtypes: object(3)\n",
      "memory usage: 130.7+ KB\n"
     ]
    }
   ],
   "source": [
    "df_cidades.info()"
   ]
  },
  {
   "cell_type": "code",
   "execution_count": 31,
   "metadata": {},
   "outputs": [
    {
     "name": "stdout",
     "output_type": "stream",
     "text": [
      "<class 'pandas.core.frame.DataFrame'>\n",
      "RangeIndex: 5565 entries, 0 to 5564\n",
      "Data columns (total 3 columns):\n",
      " #   Column  Non-Null Count  Dtype \n",
      "---  ------  --------------  ----- \n",
      " 0   Estado  5565 non-null   object\n",
      " 1   Cidade  5565 non-null   object\n",
      " 2   DDD     5565 non-null   object\n",
      "dtypes: object(3)\n",
      "memory usage: 130.6+ KB\n"
     ]
    }
   ],
   "source": [
    "df_DDD.info()"
   ]
  },
  {
   "cell_type": "code",
   "execution_count": 32,
   "metadata": {},
   "outputs": [
    {
     "name": "stdout",
     "output_type": "stream",
     "text": [
      "<class 'pandas.core.frame.DataFrame'>\n",
      "Index: 5570 entries, 0 to 5569\n",
      "Data columns (total 6 columns):\n",
      " #   Column            Non-Null Count  Dtype \n",
      "---  ------            --------------  ----- \n",
      " 0   UF                5570 non-null   object\n",
      " 1   Cód. UF           5570 non-null   object\n",
      " 2   Cód. Município    5570 non-null   object\n",
      " 3   Nome Município    5570 non-null   object\n",
      " 4   População         5570 non-null   int32 \n",
      " 5   Cód. IBGE Cidade  5570 non-null   object\n",
      "dtypes: int32(1), object(5)\n",
      "memory usage: 282.9+ KB\n"
     ]
    }
   ],
   "source": [
    "df_pop.info()"
   ]
  },
  {
   "cell_type": "markdown",
   "metadata": {},
   "source": [
    "### Grava base de dados curated"
   ]
  },
  {
   "cell_type": "code",
   "execution_count": 28,
   "metadata": {},
   "outputs": [],
   "source": [
    "salva_db(df_estados, 'dados_curated.db', 'estados_curated')\n",
    "salva_db(df_cidades, 'dados_curated.db', 'cidades_curated')\n",
    "salva_db(df_DDD, 'dados_curated.db', 'DDDs_curated')\n",
    "salva_db(df_pop, 'dados_curated.db', 'populacao_curated')"
   ]
  }
 ],
 "metadata": {
  "kernelspec": {
   "display_name": "Python 3",
   "language": "python",
   "name": "python3"
  },
  "language_info": {
   "codemirror_mode": {
    "name": "ipython",
    "version": 3
   },
   "file_extension": ".py",
   "mimetype": "text/x-python",
   "name": "python",
   "nbconvert_exporter": "python",
   "pygments_lexer": "ipython3",
   "version": "3.11.4"
  },
  "orig_nbformat": 4
 },
 "nbformat": 4,
 "nbformat_minor": 2
}
