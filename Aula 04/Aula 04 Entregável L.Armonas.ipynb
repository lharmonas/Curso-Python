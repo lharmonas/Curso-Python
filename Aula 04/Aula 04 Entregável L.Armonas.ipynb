{
 "cells": [
  {
   "cell_type": "markdown",
   "metadata": {},
   "source": [
    "## Criando um alerta com notification.notify()\n",
    "\n",
    "### Descrição:\n",
    "Utilizar a função notification.notify() para criar uma função de alerta de falha de carregamento de base de dados\n",
    "### Aspectos a incluir:\n",
    "O código a seguir gera uma janela de alerta:\n",
    "```\n",
    "from plyer import notification\n",
    "notification.notify(\n",
    "   title='Título da notificação',\n",
    "   message='Mensagem da notificação',\n",
    "   app_name='Nome do aplicativo',\n",
    "   timout=10)\n",
    "```\n",
    "\n",
    "### Definição da função:\n",
    " ```\n",
    " def alerta(nivel, base, etapa)\n",
    " ```\n",
    "* Ao chamar a função, deverá gerar uma janela de alerta;\n",
    "* Exibir a mensagem \"Falha no carregamento da base {base} na etapa {etapa}\";\n",
    "* Exibir a data atual;\n",
    "* O título:\n",
    "  * Nivel 1 » \"Alerta Baixo\"\n",
    "  * Nivel 2 » \"Alerta Médio\"\n",
    "  * Nivel 3 » \"Alerta Alto\""
   ]
  },
  {
   "cell_type": "code",
   "execution_count": 3,
   "metadata": {},
   "outputs": [
    {
     "name": "stdout",
     "output_type": "stream",
     "text": [
      "Requirement already satisfied: plyer in c:\\users\\lharm\\appdata\\local\\programs\\python\\python311\\lib\\site-packages (2.1.0)\n",
      "Note: you may need to restart the kernel to use updated packages.\n"
     ]
    },
    {
     "name": "stderr",
     "output_type": "stream",
     "text": [
      "\n",
      "[notice] A new release of pip is available: 23.1.2 -> 23.2.1\n",
      "[notice] To update, run: python.exe -m pip install --upgrade pip\n"
     ]
    }
   ],
   "source": [
    "## Instalação necessária do plyer\n",
    "%pip install plyer\n",
    "\n",
    "## Importa bibliotecas necessárias\n",
    "from plyer import notification\n",
    "from datetime import datetime"
   ]
  },
  {
   "cell_type": "code",
   "execution_count": 6,
   "metadata": {},
   "outputs": [],
   "source": [
    "\"\"\"\n",
    "Função que recebe argumentos e retorna uma mensagem de erro ao usuário do seguinte formato:\n",
    "| ATENÇÃO: Alerta Baixo/Médio/Alto (conforme input nivel)\n",
    "| Falha no carregamento da base (input base) na etapa (input etapa).\n",
    "| 2023-07-27 21:27:43.336652 (timestamp atual)\n",
    "\"\"\"\n",
    "def alerta (nivel, base, etapa):\n",
    "    ## Dependendo do nível indicado na variável, selecionamos qual o nível do alerta retornado\n",
    "    match nivel:\n",
    "        case '1':\n",
    "            nivel_alerta = 'Baixo'\n",
    "        case '2':\n",
    "            nivel_alerta = 'Médio'\n",
    "        case '3':\n",
    "            nivel_alerta = 'Alto'\n",
    "        case _:\n",
    "            ## Caso nível de alerta não esperado, retorna mensagem de erro\n",
    "            return 'Nível selecionado incorreto!'\n",
    "    \n",
    "    timstamp_atual = datetime.now().strftime('%d/%m/%Y %H:%M:%S.%f')\n",
    "    \n",
    "    ## Chama função para notificar user, conforme variáveis inputadas\n",
    "    notification.notify (\n",
    "        title = (f'ATENÇÃO: Alerta {nivel_alerta}'),\n",
    "        message = (f'Falha no carregamento da base {base} na etapa {etapa}.\\n{timstamp_atual}'),\n",
    "        app_name = ('Teste'), \n",
    "        timeout = 10\n",
    "    )\n",
    "    return"
   ]
  },
  {
   "cell_type": "markdown",
   "metadata": {},
   "source": [
    "Código para testar a função criada pedindo inputs ao user final"
   ]
  },
  {
   "cell_type": "code",
   "execution_count": 7,
   "metadata": {},
   "outputs": [
    {
     "name": "stdout",
     "output_type": "stream",
     "text": [
      "Insira os seguintes valores para executar o teste:\n",
      "\n"
     ]
    }
   ],
   "source": [
    "print('Insira os seguintes valores para executar o teste:\\n')\n",
    "nivel = input('Qual o nível de alerta desejado [1, 2, 3]')\n",
    "base = input('Em qual a base que foi identificado o erro?')\n",
    "etapa = input('Em qual etapa que foi identificado o erro?')\n",
    "alerta(nivel, base, etapa)"
   ]
  }
 ],
 "metadata": {
  "kernelspec": {
   "display_name": "Python 3",
   "language": "python",
   "name": "python3"
  },
  "language_info": {
   "codemirror_mode": {
    "name": "ipython",
    "version": 3
   },
   "file_extension": ".py",
   "mimetype": "text/x-python",
   "name": "python",
   "nbconvert_exporter": "python",
   "pygments_lexer": "ipython3",
   "version": "3.11.4"
  },
  "orig_nbformat": 4
 },
 "nbformat": 4,
 "nbformat_minor": 2
}
