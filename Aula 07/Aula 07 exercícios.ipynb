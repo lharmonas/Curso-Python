{
 "cells": [
  {
   "cell_type": "code",
   "execution_count": null,
   "metadata": {},
   "outputs": [],
   "source": [
    "pip install numpy"
   ]
  },
  {
   "cell_type": "code",
   "execution_count": null,
   "metadata": {},
   "outputs": [],
   "source": [
    "pip install pandas"
   ]
  },
  {
   "cell_type": "code",
   "execution_count": 5,
   "metadata": {},
   "outputs": [],
   "source": [
    "import numpy as np\n",
    "import pandas as pd"
   ]
  },
  {
   "cell_type": "code",
   "execution_count": 12,
   "metadata": {},
   "outputs": [
    {
     "name": "stdout",
     "output_type": "stream",
     "text": [
      "Array aleatório:\n",
      "[12 70 96 64  8 87 50 91 30 18]\n",
      "Tipo de dado: int32\n"
     ]
    }
   ],
   "source": [
    "array_01 = np.random.randint(0,100, size = 10)\n",
    "print(f'Array aleatório:\\n{array_01}')\n",
    "print(f'Tipo de dado: {array_01.dtype}')"
   ]
  },
  {
   "cell_type": "code",
   "execution_count": 16,
   "metadata": {},
   "outputs": [
    {
     "name": "stdout",
     "output_type": "stream",
     "text": [
      "Matriz aleatória:\n",
      "[[0.00183185 0.68800609 0.51574523 0.30701919 0.01562049]\n",
      " [0.49886196 0.73985194 0.38068621 0.20616776 0.69089995]\n",
      " [0.18125305 0.61642301 0.12743323 0.67799908 0.44888125]\n",
      " [0.88133271 0.38214481 0.96166092 0.49471773 0.65357643]\n",
      " [0.4431777  0.5267111  0.75806379 0.83430137 0.71789962]]\n",
      "Valor mínimo: 0.001831847409472065\n",
      "Valor máximo: 0.9616609151942503\n",
      "Valor mediano: 0.510010657546482\n"
     ]
    }
   ],
   "source": [
    "matriz_02 = np.random.rand(5,5)\n",
    "print(f'Matriz aleatória:\\n{matriz_02}')\n",
    "print(f'Valor mínimo: {matriz_02.min()}')\n",
    "print(f'Valor máximo: {matriz_02.max()}')\n",
    "print(f'Valor mediano: {matriz_02.mean()}')"
   ]
  },
  {
   "cell_type": "code",
   "execution_count": 28,
   "metadata": {},
   "outputs": [
    {
     "name": "stdout",
     "output_type": "stream",
     "text": [
      "[3 5 2 6 7 3 1 5 6 8]\n"
     ]
    }
   ],
   "source": [
    "array_03 = ((np.random.rand(10))*10).astype(int)\n",
    "print(array_03)"
   ]
  },
  {
   "cell_type": "code",
   "execution_count": 51,
   "metadata": {},
   "outputs": [
    {
     "name": "stdout",
     "output_type": "stream",
     "text": [
      "[[6 4 8]\n",
      " [1 2 5]\n",
      " [3 8 1]]\n",
      "[[ 6  4  8]\n",
      " [-1 -1 -1]\n",
      " [ 3  8  1]]\n",
      "[[ 6  4  8]\n",
      " [-1 -1 -1]\n",
      " [ 3  8  1]]\n"
     ]
    }
   ],
   "source": [
    "array_04 = (np.random.rand(3,3)*9).astype(int)\n",
    "print(array_04)\n",
    "array_04b = array_04\n",
    "array_04b[1, :] = -1\n",
    "for i in range (3):\n",
    "    array_04[1,i] = -1\n",
    "\n",
    "print(array_04)\n",
    "print(array_04b)"
   ]
  },
  {
   "cell_type": "code",
   "execution_count": 48,
   "metadata": {},
   "outputs": [
    {
     "data": {
      "text/html": [
       "<div>\n",
       "<style scoped>\n",
       "    .dataframe tbody tr th:only-of-type {\n",
       "        vertical-align: middle;\n",
       "    }\n",
       "\n",
       "    .dataframe tbody tr th {\n",
       "        vertical-align: top;\n",
       "    }\n",
       "\n",
       "    .dataframe thead th {\n",
       "        text-align: right;\n",
       "    }\n",
       "</style>\n",
       "<table border=\"1\" class=\"dataframe\">\n",
       "  <thead>\n",
       "    <tr style=\"text-align: right;\">\n",
       "      <th></th>\n",
       "      <th>Fruta</th>\n",
       "      <th>Preço</th>\n",
       "      <th>Quantidade</th>\n",
       "    </tr>\n",
       "  </thead>\n",
       "  <tbody>\n",
       "    <tr>\n",
       "      <th>0</th>\n",
       "      <td>Banana</td>\n",
       "      <td>7.9</td>\n",
       "      <td>12</td>\n",
       "    </tr>\n",
       "    <tr>\n",
       "      <th>1</th>\n",
       "      <td>Maçã</td>\n",
       "      <td>10.8</td>\n",
       "      <td>3</td>\n",
       "    </tr>\n",
       "    <tr>\n",
       "      <th>2</th>\n",
       "      <td>Pera</td>\n",
       "      <td>11.9</td>\n",
       "      <td>4</td>\n",
       "    </tr>\n",
       "  </tbody>\n",
       "</table>\n",
       "</div>"
      ],
      "text/plain": [
       "    Fruta  Preço  Quantidade\n",
       "0  Banana    7.9          12\n",
       "1    Maçã   10.8           3\n",
       "2    Pera   11.9           4"
      ]
     },
     "execution_count": 48,
     "metadata": {},
     "output_type": "execute_result"
    }
   ],
   "source": [
    "base_df = {'Fruta':['Banana', 'Maçã', 'Pera'],'Preço':[7.9, 10.8, 11.9], 'Quantidade':[12,3,4]}\n",
    "df = pd.DataFrame(base_df)\n",
    "df"
   ]
  }
 ],
 "metadata": {
  "kernelspec": {
   "display_name": "Python 3",
   "language": "python",
   "name": "python3"
  },
  "language_info": {
   "codemirror_mode": {
    "name": "ipython",
    "version": 3
   },
   "file_extension": ".py",
   "mimetype": "text/x-python",
   "name": "python",
   "nbconvert_exporter": "python",
   "pygments_lexer": "ipython3",
   "version": "3.11.4"
  },
  "orig_nbformat": 4
 },
 "nbformat": 4,
 "nbformat_minor": 2
}
