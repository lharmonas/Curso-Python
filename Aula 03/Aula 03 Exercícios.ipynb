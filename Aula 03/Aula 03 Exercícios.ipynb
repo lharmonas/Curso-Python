{
 "cells": [
  {
   "cell_type": "code",
   "execution_count": 2,
   "metadata": {},
   "outputs": [
    {
     "name": "stdout",
     "output_type": "stream",
     "text": [
      "1\n"
     ]
    }
   ],
   "source": [
    "x = 5\n",
    "y = 3\n",
    "if x > 2:\n",
    "    if y < 3:\n",
    "        x = 2\n",
    "    elif x == 6:\n",
    "            x = 3\n",
    "    else:\n",
    "            x = 1\n",
    "else:\n",
    "      x = 4\n",
    "print (x)"
   ]
  },
  {
   "cell_type": "code",
   "execution_count": 3,
   "metadata": {},
   "outputs": [
    {
     "name": "stdout",
     "output_type": "stream",
     "text": [
      "9\n"
     ]
    }
   ],
   "source": [
    "x = 5\n",
    "y = 3\n",
    "if x > 2*y:\n",
    "    x = 3\n",
    "else:\n",
    "    x = 2\n",
    "    x = x * 3\n",
    "if x/2 < y + 2:\n",
    "    x = x + y\n",
    "print (x)"
   ]
  },
  {
   "cell_type": "code",
   "execution_count": 4,
   "metadata": {},
   "outputs": [
    {
     "name": "stdout",
     "output_type": "stream",
     "text": [
      "Help on class enumerate in module builtins:\n",
      "\n",
      "class enumerate(object)\n",
      " |  enumerate(iterable, start=0)\n",
      " |  \n",
      " |  Return an enumerate object.\n",
      " |  \n",
      " |    iterable\n",
      " |      an object supporting iteration\n",
      " |  \n",
      " |  The enumerate object yields pairs containing a count (from start, which\n",
      " |  defaults to zero) and a value yielded by the iterable argument.\n",
      " |  \n",
      " |  enumerate is useful for obtaining an indexed list:\n",
      " |      (0, seq[0]), (1, seq[1]), (2, seq[2]), ...\n",
      " |  \n",
      " |  Methods defined here:\n",
      " |  \n",
      " |  __getattribute__(self, name, /)\n",
      " |      Return getattr(self, name).\n",
      " |  \n",
      " |  __iter__(self, /)\n",
      " |      Implement iter(self).\n",
      " |  \n",
      " |  __next__(self, /)\n",
      " |      Implement next(self).\n",
      " |  \n",
      " |  __reduce__(...)\n",
      " |      Return state information for pickling.\n",
      " |  \n",
      " |  ----------------------------------------------------------------------\n",
      " |  Class methods defined here:\n",
      " |  \n",
      " |  __class_getitem__(...) from builtins.type\n",
      " |      See PEP 585\n",
      " |  \n",
      " |  ----------------------------------------------------------------------\n",
      " |  Static methods defined here:\n",
      " |  \n",
      " |  __new__(*args, **kwargs) from builtins.type\n",
      " |      Create and return a new object.  See help(type) for accurate signature.\n",
      "\n"
     ]
    }
   ],
   "source": [
    "alfab = ['a', 'b', 'c', 'd', 'e']\n",
    "while i, j enumerate(alfab):\n",
    "    if "
   ]
  },
  {
   "cell_type": "markdown",
   "metadata": {},
   "source": [
    "### Escreva um programa que receba um número inteiro e exiba se ele é par ou ímpar."
   ]
  },
  {
   "cell_type": "code",
   "execution_count": 7,
   "metadata": {},
   "outputs": [
    {
     "name": "stdout",
     "output_type": "stream",
     "text": [
      "Você digitou um número ímpar\n"
     ]
    }
   ],
   "source": [
    "i = int(input('Digite um número inteiro:'))\n",
    "if i%2 == 0:\n",
    "    print('Você digitou um número par')\n",
    "else:\n",
    "    print('Você digitou um número ímpar')"
   ]
  },
  {
   "cell_type": "markdown",
   "metadata": {},
   "source": [
    "### Escreva um programa em Python que solicita ao usuário uma frase e, em seguida, exibe cada palavra e seu número de caracteres."
   ]
  },
  {
   "cell_type": "code",
   "execution_count": 9,
   "metadata": {},
   "outputs": [
    {
     "name": "stdout",
     "output_type": "stream",
     "text": [
      "['teste', 'batata', 'lucas', '1234,', '4312', '1paidf,asdf']\n",
      "teste -> 5 letras\n",
      "batata -> 6 letras\n",
      "lucas -> 5 letras\n",
      "1234, -> 5 letras\n",
      "4312 -> 4 letras\n",
      "1paidf,asdf -> 11 letras\n"
     ]
    }
   ],
   "source": [
    "frase = input ('Digite uma frase:')\n",
    "frase_cortada = frase.split(' ')\n",
    "print (frase_cortada)\n",
    "for palavra in frase_cortada:\n",
    "    print(f'{palavra} -> {len(palavra)} letras')"
   ]
  },
  {
   "cell_type": "markdown",
   "metadata": {},
   "source": [
    "### Crie um programa em Python que solicita ao usuário uma senha numérica de 4 dígitos. O programa deve repetir essa solicitação até que o usuário informe a senha correta (1234)."
   ]
  },
  {
   "cell_type": "code",
   "execution_count": 13,
   "metadata": {},
   "outputs": [
    {
     "name": "stdout",
     "output_type": "stream",
     "text": [
      "Senha incorreta digitada!\n",
      "145\n",
      "Senha correta!\n"
     ]
    }
   ],
   "source": [
    "senha_correta = '1234'\n",
    "senha = ''\n",
    "while senha != senha_correta:\n",
    "    senha = input('Informe a senha:')\n",
    "    if senha == senha_correta:\n",
    "        break\n",
    "    else:\n",
    "        print(f'Senha incorreta digitada!\\n{senha}')\n",
    "print('Senha correta!')"
   ]
  },
  {
   "cell_type": "markdown",
   "metadata": {},
   "source": [
    "### Escreva um programa que dado um valor n calcula o fatorial de n. "
   ]
  },
  {
   "cell_type": "code",
   "execution_count": 25,
   "metadata": {},
   "outputs": [
    {
     "name": "stdout",
     "output_type": "stream",
     "text": [
      "Fatorial calculado = 720\n"
     ]
    }
   ],
   "source": [
    "numero = int(input('Digite um número para calcular o fatorial:'))\n",
    "fatorial = numero\n",
    "i = 1\n",
    "if numero > 1:  \n",
    "    while numero > 1:\n",
    "        numero -= 1\n",
    "        fatorial *= numero\n",
    "    print(f'Fatorial calculado = {fatorial}')\n",
    "elif numero >= 0:\n",
    "    fatorial = 1\n",
    "    print(f'Fatorial calculado = {fatorial}')\n",
    "else:\n",
    "    print('Número negativo inputado!')"
   ]
  },
  {
   "cell_type": "markdown",
   "metadata": {},
   "source": [
    "Outra forma de calcular:"
   ]
  },
  {
   "cell_type": "code",
   "execution_count": 4,
   "metadata": {},
   "outputs": [
    {
     "name": "stdout",
     "output_type": "stream",
     "text": [
      "120\n"
     ]
    }
   ],
   "source": [
    "numero = int(input('Digite um número para calcular o fatorial:'))\n",
    "fatorial = 1\n",
    "for i in range(1, numero+1):\n",
    "    fatorial *=i\n",
    "\n",
    "print(fatorial)"
   ]
  }
 ],
 "metadata": {
  "kernelspec": {
   "display_name": "Python 3",
   "language": "python",
   "name": "python3"
  },
  "language_info": {
   "codemirror_mode": {
    "name": "ipython",
    "version": 3
   },
   "file_extension": ".py",
   "mimetype": "text/x-python",
   "name": "python",
   "nbconvert_exporter": "python",
   "pygments_lexer": "ipython3",
   "version": "3.11.4"
  },
  "orig_nbformat": 4
 },
 "nbformat": 4,
 "nbformat_minor": 2
}
