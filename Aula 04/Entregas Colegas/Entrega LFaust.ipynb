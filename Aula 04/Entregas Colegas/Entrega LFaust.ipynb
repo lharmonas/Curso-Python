{
 "metadata": {
  "language_info": {
   "codemirror_mode": {
    "name": "ipython",
    "version": 3
   },
   "file_extension": ".py",
   "mimetype": "text/x-python",
   "name": "python",
   "nbconvert_exporter": "python",
   "pygments_lexer": "ipython3",
   "version": "3.9.1-final"
  },
  "orig_nbformat": 2,
  "kernelspec": {
   "name": "python3",
   "display_name": "Python 3.9.1 64-bit",
   "metadata": {
    "interpreter": {
     "hash": "0ec66bbe782f389edb8615b95e71913b48001538f92dc4d53a6c71a0eff16772"
    }
   }
  }
 },
 "nbformat": 4,
 "nbformat_minor": 2,
 "cells": [
  {
   "cell_type": "code",
   "execution_count": 36,
   "metadata": {},
   "outputs": [],
   "source": [
    "from plyer import notification\n",
    "from datetime import datetime\n",
    "\n",
    "def alerta(nivel,base,etapa):\n",
    "\n",
    "    if nivel == 1:\n",
    "        texto_nivel = \"Alerta Baixo\"\n",
    "    elif nivel == 2:\n",
    "        texto_nivel = \"Alerta Médio\"\n",
    "    else:\n",
    "        texto_nivel = \"Alerta Alto\"\n",
    "\n",
    "    horario = datetime.now()\n",
    "    horario_formatado = horario.strftime(\"%d/%m/%Y %I:%M:%S\")\n",
    "\n",
    "    notification.notify(\n",
    "        title = f\"ATENÇÃO: {texto_nivel}\",\n",
    "        message = f\"Falha no carregamento da base {base} na etapa {etapa}\\n{horario_formatado}\" ,\n",
    "        app_icon = None,\n",
    "        timeout = 10)"
   ]
  },
  {
   "cell_type": "code",
   "execution_count": 39,
   "metadata": {},
   "outputs": [],
   "source": [
    "alerta(1,\"programa1\",\"teste\")"
   ]
  }
 ]
}