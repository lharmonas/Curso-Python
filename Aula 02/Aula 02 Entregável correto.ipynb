{
 "cells": [
  {
   "cell_type": "markdown",
   "metadata": {},
   "source": [
    "## Atividade 01\n",
    "Escreva um programa em Python que calcule o IMC (Índice de Massa Corporal) de uma pessoa. O programa deve solicitar ao usuário o peso em kg e a altura em metros, e em seguida, calcular e imprimir o valor do IMC."
   ]
  },
  {
   "cell_type": "code",
   "execution_count": 17,
   "metadata": {},
   "outputs": [
    {
     "name": "stdout",
     "output_type": "stream",
     "text": [
      "Insira os dados necessários para o cálculo do seu IMC:\n",
      "O seu IMC é: 22.33\n",
      "Classificado como:\n",
      "Normal\n"
     ]
    }
   ],
   "source": [
    "print('Insira os dados necessários para o cálculo do seu IMC:')\n",
    "## Busca dados do usuário, convertendo o input para float\n",
    "peso = float ( input ('Qual o seu peso?'))\n",
    "altura = float ( input ('Qual a sua altura?'))\n",
    "## Cria função para calcular o IMC: IMC = peso/(altura)²\n",
    "calcula_IMC = lambda input_peso, input_altura: (input_peso / (input_altura ** 2))\n",
    "## Arredonda valor para 2 casas decimais\n",
    "IMC = round(calcula_IMC (peso, altura), 2)\n",
    "## Valida se o usuário não incluiu o próprio peso como número negativo (resulta IMC negativo)\n",
    "if IMC > 0.0:\n",
    "    ## Faz o output de informação ao usuário, trazendo o valor e a categorização do IMC calculado\n",
    "    print(f'O seu IMC é: {IMC}\\nClassificado como:')\n",
    "    if IMC < 18.5:\n",
    "        print('Magreza')\n",
    "    elif IMC < 25.0:\n",
    "        print ('Normal')\n",
    "    elif IMC < 30.0:\n",
    "        print ('Sobrepeso')\n",
    "    elif IMC < 40.0:\n",
    "        print (\"Obesidade\")\n",
    "    else:\n",
    "        print ('Obesidade Grave!')\n",
    "## Caso user incluir peso menor que zero, então dá erro no cálculo de IMC\n",
    "else:\n",
    "    print('Erro no cálculo de IMC')"
   ]
  },
  {
   "cell_type": "markdown",
   "metadata": {},
   "source": [
    "## Atividade 02\n",
    "Faça um programa que crie uma lista vazia e permita que o usuário insira 5 números inteiros na lista."
   ]
  },
  {
   "cell_type": "code",
   "execution_count": 18,
   "metadata": {},
   "outputs": [
    {
     "name": "stdout",
     "output_type": "stream",
     "text": [
      "Sua lista é:\n",
      "[9, 8, 7, 6, 5]\n"
     ]
    }
   ],
   "source": [
    "tamanho_lista = 5\n",
    "lista = []\n",
    "for i in range(1,tamanho_lista+1):\n",
    "    lista.append(int (input(f'Defina o inteiro para o {i}º lugar de sua lista:')))\n",
    "print(f'Sua lista é:\\n{lista}')"
   ]
  },
  {
   "cell_type": "markdown",
   "metadata": {},
   "source": [
    "## Atividade 03\n",
    "Faça um programa que peça ao usuário para digitar uma lista de nomes separados por vírgula e transforme essa lista em uma lista de strings."
   ]
  },
  {
   "cell_type": "code",
   "execution_count": 19,
   "metadata": {},
   "outputs": [
    {
     "name": "stdout",
     "output_type": "stream",
     "text": [
      "['Lucas Armonas', 'Matheus Rocha', 'Rogério Silva', 'Ana Medeiros']\n"
     ]
    }
   ],
   "source": [
    "input_nomes = input('Digite a lista de nomes separados por vírgula \",\"')\n",
    "## Separa a string inputada utilizando a vírgula como delimitador\n",
    "lista_nomes = input_nomes.split(',')\n",
    "## Faz um tratamento para retirar todos os espaços inclusos antes ou depois do nome\n",
    "for i in range(0, len(lista_nomes)):\n",
    "    lista_nomes[i] = lista_nomes[i].strip()\n",
    "## Retorna a lista ao user\n",
    "print(lista_nomes)"
   ]
  }
 ],
 "metadata": {
  "kernelspec": {
   "display_name": "Python 3",
   "language": "python",
   "name": "python3"
  },
  "language_info": {
   "codemirror_mode": {
    "name": "ipython",
    "version": 3
   },
   "file_extension": ".py",
   "mimetype": "text/x-python",
   "name": "python",
   "nbconvert_exporter": "python",
   "pygments_lexer": "ipython3",
   "version": "3.11.4"
  },
  "orig_nbformat": 4
 },
 "nbformat": 4,
 "nbformat_minor": 2
}
