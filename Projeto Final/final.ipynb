{
 "cells": [
  {
   "cell_type": "code",
   "execution_count": 1,
   "metadata": {},
   "outputs": [
    {
     "name": "stdout",
     "output_type": "stream",
     "text": [
      "Requirement already satisfied: asttokens==2.2.1 in c:\\users\\lharm\\appdata\\roaming\\python\\python311\\site-packages (from -r requirements.txt (line 1)) (2.2.1)\n",
      "Requirement already satisfied: backcall==0.2.0 in c:\\users\\lharm\\appdata\\roaming\\python\\python311\\site-packages (from -r requirements.txt (line 2)) (0.2.0)\n",
      "Requirement already satisfied: certifi==2023.7.22 in c:\\users\\lharm\\appdata\\local\\programs\\python\\python311\\lib\\site-packages (from -r requirements.txt (line 3)) (2023.7.22)\n",
      "Requirement already satisfied: charset-normalizer==3.2.0 in c:\\users\\lharm\\appdata\\local\\programs\\python\\python311\\lib\\site-packages (from -r requirements.txt (line 4)) (3.2.0)\n",
      "Requirement already satisfied: colorama==0.4.6 in c:\\users\\lharm\\appdata\\roaming\\python\\python311\\site-packages (from -r requirements.txt (line 5)) (0.4.6)\n",
      "Requirement already satisfied: comm==0.1.3 in c:\\users\\lharm\\appdata\\roaming\\python\\python311\\site-packages (from -r requirements.txt (line 6)) (0.1.3)\n",
      "Requirement already satisfied: contourpy==1.1.0 in c:\\users\\lharm\\appdata\\local\\programs\\python\\python311\\lib\\site-packages (from -r requirements.txt (line 7)) (1.1.0)\n",
      "Requirement already satisfied: cycler==0.11.0 in c:\\users\\lharm\\appdata\\local\\programs\\python\\python311\\lib\\site-packages (from -r requirements.txt (line 8)) (0.11.0)\n",
      "Requirement already satisfied: debugpy==1.6.7 in c:\\users\\lharm\\appdata\\roaming\\python\\python311\\site-packages (from -r requirements.txt (line 9)) (1.6.7)\n",
      "Requirement already satisfied: decorator==5.1.1 in c:\\users\\lharm\\appdata\\roaming\\python\\python311\\site-packages (from -r requirements.txt (line 10)) (5.1.1)\n",
      "Requirement already satisfied: et-xmlfile==1.1.0 in c:\\users\\lharm\\appdata\\local\\programs\\python\\python311\\lib\\site-packages (from -r requirements.txt (line 11)) (1.1.0)\n",
      "Requirement already satisfied: executing==1.2.0 in c:\\users\\lharm\\appdata\\roaming\\python\\python311\\site-packages (from -r requirements.txt (line 12)) (1.2.0)\n",
      "Requirement already satisfied: fonttools==4.42.1 in c:\\users\\lharm\\appdata\\local\\programs\\python\\python311\\lib\\site-packages (from -r requirements.txt (line 13)) (4.42.1)\n",
      "Requirement already satisfied: idna==3.4 in c:\\users\\lharm\\appdata\\local\\programs\\python\\python311\\lib\\site-packages (from -r requirements.txt (line 14)) (3.4)\n",
      "Requirement already satisfied: imageio==2.31.1 in c:\\users\\lharm\\appdata\\local\\programs\\python\\python311\\lib\\site-packages (from -r requirements.txt (line 15)) (2.31.1)\n",
      "Requirement already satisfied: ipykernel==6.24.0 in c:\\users\\lharm\\appdata\\roaming\\python\\python311\\site-packages (from -r requirements.txt (line 16)) (6.24.0)\n",
      "Requirement already satisfied: ipython==8.14.0 in c:\\users\\lharm\\appdata\\roaming\\python\\python311\\site-packages (from -r requirements.txt (line 17)) (8.14.0)\n",
      "Requirement already satisfied: jedi==0.18.2 in c:\\users\\lharm\\appdata\\roaming\\python\\python311\\site-packages (from -r requirements.txt (line 18)) (0.18.2)\n",
      "Requirement already satisfied: jupyter_client==8.3.0 in c:\\users\\lharm\\appdata\\roaming\\python\\python311\\site-packages (from -r requirements.txt (line 19)) (8.3.0)\n",
      "Requirement already satisfied: jupyter_core==5.3.1 in c:\\users\\lharm\\appdata\\roaming\\python\\python311\\site-packages (from -r requirements.txt (line 20)) (5.3.1)\n",
      "Requirement already satisfied: kiwisolver==1.4.4 in c:\\users\\lharm\\appdata\\local\\programs\\python\\python311\\lib\\site-packages (from -r requirements.txt (line 21)) (1.4.4)\n",
      "Requirement already satisfied: lazy_loader==0.3 in c:\\users\\lharm\\appdata\\local\\programs\\python\\python311\\lib\\site-packages (from -r requirements.txt (line 22)) (0.3)\n",
      "Requirement already satisfied: matplotlib==3.7.2 in c:\\users\\lharm\\appdata\\local\\programs\\python\\python311\\lib\\site-packages (from -r requirements.txt (line 23)) (3.7.2)\n",
      "Requirement already satisfied: matplotlib-inline==0.1.6 in c:\\users\\lharm\\appdata\\roaming\\python\\python311\\site-packages (from -r requirements.txt (line 24)) (0.1.6)\n",
      "Requirement already satisfied: nest-asyncio==1.5.6 in c:\\users\\lharm\\appdata\\roaming\\python\\python311\\site-packages (from -r requirements.txt (line 25)) (1.5.6)\n",
      "Requirement already satisfied: networkx==3.1 in c:\\users\\lharm\\appdata\\local\\programs\\python\\python311\\lib\\site-packages (from -r requirements.txt (line 26)) (3.1)\n",
      "Requirement already satisfied: numpy==1.25.2 in c:\\users\\lharm\\appdata\\local\\programs\\python\\python311\\lib\\site-packages (from -r requirements.txt (line 27)) (1.25.2)\n",
      "Requirement already satisfied: openpyxl==3.1.2 in c:\\users\\lharm\\appdata\\local\\programs\\python\\python311\\lib\\site-packages (from -r requirements.txt (line 28)) (3.1.2)\n",
      "Requirement already satisfied: packaging==23.1 in c:\\users\\lharm\\appdata\\roaming\\python\\python311\\site-packages (from -r requirements.txt (line 29)) (23.1)\n",
      "Requirement already satisfied: pandas==2.0.3 in c:\\users\\lharm\\appdata\\local\\programs\\python\\python311\\lib\\site-packages (from -r requirements.txt (line 30)) (2.0.3)\n",
      "Requirement already satisfied: parso==0.8.3 in c:\\users\\lharm\\appdata\\roaming\\python\\python311\\site-packages (from -r requirements.txt (line 31)) (0.8.3)\n",
      "Requirement already satisfied: pickleshare==0.7.5 in c:\\users\\lharm\\appdata\\roaming\\python\\python311\\site-packages (from -r requirements.txt (line 32)) (0.7.5)\n",
      "Requirement already satisfied: Pillow==10.0.0 in c:\\users\\lharm\\appdata\\local\\programs\\python\\python311\\lib\\site-packages (from -r requirements.txt (line 33)) (10.0.0)\n",
      "Requirement already satisfied: platformdirs==3.9.1 in c:\\users\\lharm\\appdata\\roaming\\python\\python311\\site-packages (from -r requirements.txt (line 34)) (3.9.1)\n",
      "Requirement already satisfied: plyer==2.1.0 in c:\\users\\lharm\\appdata\\local\\programs\\python\\python311\\lib\\site-packages (from -r requirements.txt (line 35)) (2.1.0)\n",
      "Requirement already satisfied: prompt-toolkit==3.0.39 in c:\\users\\lharm\\appdata\\roaming\\python\\python311\\site-packages (from -r requirements.txt (line 36)) (3.0.39)\n",
      "Requirement already satisfied: psutil==5.9.5 in c:\\users\\lharm\\appdata\\roaming\\python\\python311\\site-packages (from -r requirements.txt (line 37)) (5.9.5)\n",
      "Requirement already satisfied: pure-eval==0.2.2 in c:\\users\\lharm\\appdata\\roaming\\python\\python311\\site-packages (from -r requirements.txt (line 38)) (0.2.2)\n",
      "Requirement already satisfied: Pygments==2.15.1 in c:\\users\\lharm\\appdata\\roaming\\python\\python311\\site-packages (from -r requirements.txt (line 39)) (2.15.1)\n",
      "Requirement already satisfied: pyparsing==3.0.9 in c:\\users\\lharm\\appdata\\local\\programs\\python\\python311\\lib\\site-packages (from -r requirements.txt (line 40)) (3.0.9)\n",
      "Requirement already satisfied: python-dateutil==2.8.2 in c:\\users\\lharm\\appdata\\roaming\\python\\python311\\site-packages (from -r requirements.txt (line 41)) (2.8.2)\n",
      "Requirement already satisfied: pytz==2023.3 in c:\\users\\lharm\\appdata\\local\\programs\\python\\python311\\lib\\site-packages (from -r requirements.txt (line 42)) (2023.3)\n",
      "Requirement already satisfied: PyWavelets==1.4.1 in c:\\users\\lharm\\appdata\\local\\programs\\python\\python311\\lib\\site-packages (from -r requirements.txt (line 43)) (1.4.1)\n",
      "Requirement already satisfied: pywin32==306 in c:\\users\\lharm\\appdata\\roaming\\python\\python311\\site-packages (from -r requirements.txt (line 44)) (306)\n",
      "Requirement already satisfied: pyzmq==25.1.0 in c:\\users\\lharm\\appdata\\roaming\\python\\python311\\site-packages (from -r requirements.txt (line 45)) (25.1.0)\n",
      "Requirement already satisfied: requests==2.31.0 in c:\\users\\lharm\\appdata\\local\\programs\\python\\python311\\lib\\site-packages (from -r requirements.txt (line 46)) (2.31.0)\n",
      "Requirement already satisfied: schedule==1.2.0 in c:\\users\\lharm\\appdata\\local\\programs\\python\\python311\\lib\\site-packages (from -r requirements.txt (line 47)) (1.2.0)\n",
      "Requirement already satisfied: scikit-image==0.21.0 in c:\\users\\lharm\\appdata\\local\\programs\\python\\python311\\lib\\site-packages (from -r requirements.txt (line 48)) (0.21.0)\n",
      "Requirement already satisfied: scipy==1.11.1 in c:\\users\\lharm\\appdata\\local\\programs\\python\\python311\\lib\\site-packages (from -r requirements.txt (line 49)) (1.11.1)\n",
      "Requirement already satisfied: seaborn==0.12.2 in c:\\users\\lharm\\appdata\\local\\programs\\python\\python311\\lib\\site-packages (from -r requirements.txt (line 50)) (0.12.2)\n",
      "Requirement already satisfied: six==1.16.0 in c:\\users\\lharm\\appdata\\roaming\\python\\python311\\site-packages (from -r requirements.txt (line 51)) (1.16.0)\n",
      "Requirement already satisfied: stack-data==0.6.2 in c:\\users\\lharm\\appdata\\roaming\\python\\python311\\site-packages (from -r requirements.txt (line 52)) (0.6.2)\n",
      "Requirement already satisfied: tifffile==2023.7.18 in c:\\users\\lharm\\appdata\\local\\programs\\python\\python311\\lib\\site-packages (from -r requirements.txt (line 53)) (2023.7.18)\n",
      "Requirement already satisfied: tornado==6.3.2 in c:\\users\\lharm\\appdata\\roaming\\python\\python311\\site-packages (from -r requirements.txt (line 54)) (6.3.2)\n",
      "Requirement already satisfied: traitlets==5.9.0 in c:\\users\\lharm\\appdata\\roaming\\python\\python311\\site-packages (from -r requirements.txt (line 55)) (5.9.0)\n",
      "Requirement already satisfied: tzdata==2023.3 in c:\\users\\lharm\\appdata\\local\\programs\\python\\python311\\lib\\site-packages (from -r requirements.txt (line 56)) (2023.3)\n",
      "Requirement already satisfied: urllib3==2.0.4 in c:\\users\\lharm\\appdata\\local\\programs\\python\\python311\\lib\\site-packages (from -r requirements.txt (line 57)) (2.0.4)\n",
      "Requirement already satisfied: wcwidth==0.2.6 in c:\\users\\lharm\\appdata\\roaming\\python\\python311\\site-packages (from -r requirements.txt (line 58)) (0.2.6)\n",
      "Requirement already satisfied: xlrd==2.0.1 in c:\\users\\lharm\\appdata\\local\\programs\\python\\python311\\lib\\site-packages (from -r requirements.txt (line 59)) (2.0.1)\n",
      "Note: you may need to restart the kernel to use updated packages.\n"
     ]
    }
   ],
   "source": [
    "pip install -r requirements.txt"
   ]
  },
  {
   "cell_type": "code",
   "execution_count": 2,
   "metadata": {},
   "outputs": [],
   "source": [
    "## Importa bibliotecas necessárias\n",
    "from plyer import notification\n",
    "from datetime import datetime\n",
    "import numpy as np\n",
    "import pandas as pd\n",
    "import requests\n",
    "from funcoes import *\n",
    "import time \n",
    "import sqlite3"
   ]
  },
  {
   "cell_type": "markdown",
   "metadata": {},
   "source": [
    "### Fase de carregamento de dados:"
   ]
  },
  {
   "cell_type": "code",
   "execution_count": 3,
   "metadata": {},
   "outputs": [],
   "source": [
    "## Carrega informações de estados brasileiros\n",
    "df_estados_raw = carregar_dados_estados()"
   ]
  },
  {
   "cell_type": "code",
   "execution_count": 4,
   "metadata": {},
   "outputs": [],
   "source": [
    "## Carrega informações de todas as cidades de todos os estados brasileiros, utilizando dataframe anterior como input para carregar as informações\n",
    "\n",
    "df_cidades_raw = pd.DataFrame(columns = ['Nome Cidade', 'Cód. IBGE Cidade', 'Sigla Estado'])\n",
    "\n",
    "for estado in df_estados_raw['sigla']:\n",
    "    # Para cada estado da nação, ele carrega as informações em um dataframe auxiliar 'df_aux'\n",
    "    df_aux = carregar_dados_cidades(estado)\n",
    "    df_aux['Sigla Estado'] = estado\n",
    "    df_aux.columns = ['Nome Cidade', 'Cód. IBGE Cidade', 'Sigla Estado']\n",
    "    # e depois vai concatenando as informações em um único dataframe 'df_cidades_raw'\n",
    "    df_cidades_raw = pd.concat([df_cidades_raw, df_aux], ignore_index= True)\n"
   ]
  },
  {
   "cell_type": "code",
   "execution_count": 5,
   "metadata": {},
   "outputs": [],
   "source": [
    "## Carrega informações para criar uma base de dados de todos os DDDs nacionais, utilizando a mesma estratégia para criar o dataframe 'df_cidades_curated'\n",
    "df_DDD_raw = pd.DataFrame(columns = ['Estado', 'Cidade', 'DDD'])\n",
    "\n",
    "# Obs: Para evitar tentar buscar DDDs inválidos, foi pesquisado quais são os DDDs válidos atuais e são extraídas informações somente destes DDDs\n",
    "DDDs_validos = ['11', '12', '13', '14', '15', '16', '17', '18', '19', '21', '22', '24', '27', '28', '31', '32', '33', '34', '35', '37', '38', '41', '42', '43', '44', '45', '46', '47', '48', '49', '51', '53', '54', '55', '61', '62', '63', '64', '65', '66', '67', '68', '69', '71', '73', '74', '75', '77', '79', '81', '82', '83', '84', '85', '86', '87', '88', '89', '91', '92', '93', '94', '95', '96', '97', '98', '99']\n",
    "for i in DDDs_validos:\n",
    "    df_aux = carregar_info_DDDs(i)\n",
    "    if type(df_aux) == tuple:\n",
    "        # Caso o DDD pesquisado seja inválido, continua para o próximo a ser pesquisado\n",
    "        pass\n",
    "    else:\n",
    "        df_aux['DDD'] = i\n",
    "        df_aux.columns = ['Estado', 'Cidade', 'DDD']\n",
    "        df_DDD_raw = pd.concat([df_DDD_raw, df_aux], ignore_index = True)\n",
    "        # Foi necessário incluir um intervalo de 1s para conseguirmos buscar a base completa de DDDs do site brasilapi\n",
    "        time.sleep(1)"
   ]
  },
  {
   "cell_type": "code",
   "execution_count": 6,
   "metadata": {},
   "outputs": [],
   "source": [
    "## Carrega dados adicionais retirados do site do IBGE para compor dados de todos os municípios do Brasil.\n",
    "## Dados disponíveis em: https://www.ibge.gov.br/estatisticas/sociais/populacao/22827-censo-demografico-2022.html?=&t=downloads\n",
    "\n",
    "df_pop_raw = pd.read_excel('POP2022_Municipios_20230622.xls', sheet_name='Municípios', header=1)"
   ]
  },
  {
   "cell_type": "markdown",
   "metadata": {},
   "source": [
    "### Grava base de dados raw:"
   ]
  },
  {
   "cell_type": "code",
   "execution_count": 7,
   "metadata": {},
   "outputs": [],
   "source": [
    "salva_db(df_estados_raw, 'dados_raw.db', 'estados_raw')\n",
    "salva_db(df_cidades_raw, 'dados_raw.db', 'cidades_raw')\n",
    "salva_db(df_DDD_raw, 'dados_raw.db', 'DDDs_raw')\n",
    "salva_db(df_pop_raw, 'dados_raw.db', 'populacao_raw')"
   ]
  },
  {
   "cell_type": "markdown",
   "metadata": {},
   "source": [
    "### Leitura da base de dados raw:"
   ]
  },
  {
   "cell_type": "code",
   "execution_count": 8,
   "metadata": {},
   "outputs": [],
   "source": [
    "df_estados = carrega_db('dados_raw.db', 'estados_raw')\n",
    "df_cidades = carrega_db('dados_raw.db', 'cidades_raw')\n",
    "df_DDD = carrega_db('dados_raw.db', 'DDDs_raw')\n",
    "df_pop = carrega_db('dados_raw.db', 'populacao_raw')"
   ]
  },
  {
   "cell_type": "markdown",
   "metadata": {},
   "source": [
    "### Fase de tratamento de dados:"
   ]
  },
  {
   "cell_type": "code",
   "execution_count": 9,
   "metadata": {},
   "outputs": [],
   "source": [
    "## Planilha do IBGE possui rodapé que não contém dados da POPULAÇÃO. Estamos removendo essas linhas desnecessárias\n",
    "df_pop = df_pop.dropna(subset = 'POPULAÇÃO')"
   ]
  },
  {
   "cell_type": "code",
   "execution_count": 10,
   "metadata": {},
   "outputs": [],
   "source": [
    "## Padronizando Dtypes que estavam como números para strings\n",
    "\n",
    "df_estados['id'] = df_estados['id'].astype(str)\n",
    "df_pop['COD. UF'] = df_pop['COD. UF'].astype(int).astype(str)\n",
    "df_pop['COD. MUNIC'] = df_pop['COD. MUNIC'].astype(int).astype(str)\n",
    "df_pop['POPULAÇÃO'] = df_pop['POPULAÇÃO'].astype(str)"
   ]
  },
  {
   "cell_type": "code",
   "execution_count": 11,
   "metadata": {},
   "outputs": [],
   "source": [
    "## Padronizando sempre utilizar caixa alta para textos nos dataframes\n",
    "caixa_alta = lambda df_aux: df_aux.apply(lambda x: x.str.upper() if x.dtype == 'object' else x)\n",
    "\n",
    "df_estados = caixa_alta(df_estados)\n",
    "df_cidades = caixa_alta(df_cidades)\n",
    "df_DDD = caixa_alta(df_DDD)\n",
    "df_pop = caixa_alta(df_pop)"
   ]
  },
  {
   "cell_type": "code",
   "execution_count": 12,
   "metadata": {},
   "outputs": [],
   "source": [
    "## Dados do arquivo do IBGE estavam com casos como o exemplo a seguir:\n",
    "\"\"\"\n",
    "37.464\n",
    "461.748(1)\n",
    "19.316\n",
    "3.476\n",
    "\"\"\"\n",
    "# Queremos retirar os pontos '.' e também tratar os casos que contém parênteses, para depois transformar os dados para inteiro:\n",
    "df_pop['POPULAÇÃO'] = df_pop['POPULAÇÃO'].str.replace('.', '')\n",
    "\n",
    "# Função lambda que retorna a string até a abertura de parêntese caso houver\n",
    "string_ate_parentese = lambda texto: texto.split('(')[0] if '(' in texto else texto\n",
    "df_pop['POPULAÇÃO'] = list(map(string_ate_parentese, df_pop['POPULAÇÃO']))\n",
    "\n",
    "# Transforma os dados para inteiro novamente\n",
    "df_pop['POPULAÇÃO'] = df_pop['POPULAÇÃO'].astype(int)"
   ]
  },
  {
   "cell_type": "code",
   "execution_count": 13,
   "metadata": {},
   "outputs": [],
   "source": [
    "## Criação de coluna Cód.IBGE Cidade dentro do dataframe que contém dados de população (necessário futuramente para conectar com dataframe de cidades)\n",
    "df_pop['Cód. IBGE Cidade'] = df_pop['COD. UF'] + df_pop['COD. MUNIC'].str.zfill(5)"
   ]
  },
  {
   "cell_type": "code",
   "execution_count": 14,
   "metadata": {},
   "outputs": [],
   "source": [
    "## Renomeando colunas\n",
    "df_estados.columns = ['ID Estado', 'Sigla Estado', 'Nome Estado', 'Região']\n",
    "df_DDD.columns = ['Sigla Estado', 'Nome Cidade', 'DDD']\n",
    "df_pop.columns = ['Sigla Estado', 'ID Estado', 'Cód. Cidade', 'Nome Cidade', 'População', 'Cód. IBGE Cidade']"
   ]
  },
  {
   "cell_type": "code",
   "execution_count": 15,
   "metadata": {},
   "outputs": [
    {
     "name": "stdout",
     "output_type": "stream",
     "text": [
      "<class 'pandas.core.frame.DataFrame'>\n",
      "RangeIndex: 27 entries, 0 to 26\n",
      "Data columns (total 4 columns):\n",
      " #   Column        Non-Null Count  Dtype \n",
      "---  ------        --------------  ----- \n",
      " 0   ID Estado     27 non-null     object\n",
      " 1   Sigla Estado  27 non-null     object\n",
      " 2   Nome Estado   27 non-null     object\n",
      " 3   Região        27 non-null     object\n",
      "dtypes: object(4)\n",
      "memory usage: 996.0+ bytes\n"
     ]
    }
   ],
   "source": [
    "df_estados.info()"
   ]
  },
  {
   "cell_type": "code",
   "execution_count": 16,
   "metadata": {},
   "outputs": [
    {
     "name": "stdout",
     "output_type": "stream",
     "text": [
      "<class 'pandas.core.frame.DataFrame'>\n",
      "RangeIndex: 5570 entries, 0 to 5569\n",
      "Data columns (total 3 columns):\n",
      " #   Column            Non-Null Count  Dtype \n",
      "---  ------            --------------  ----- \n",
      " 0   Nome Cidade       5570 non-null   object\n",
      " 1   Cód. IBGE Cidade  5570 non-null   object\n",
      " 2   Sigla Estado      5570 non-null   object\n",
      "dtypes: object(3)\n",
      "memory usage: 130.7+ KB\n"
     ]
    }
   ],
   "source": [
    "df_cidades.info()"
   ]
  },
  {
   "cell_type": "code",
   "execution_count": 17,
   "metadata": {},
   "outputs": [
    {
     "name": "stdout",
     "output_type": "stream",
     "text": [
      "<class 'pandas.core.frame.DataFrame'>\n",
      "RangeIndex: 5565 entries, 0 to 5564\n",
      "Data columns (total 3 columns):\n",
      " #   Column        Non-Null Count  Dtype \n",
      "---  ------        --------------  ----- \n",
      " 0   Sigla Estado  5565 non-null   object\n",
      " 1   Nome Cidade   5565 non-null   object\n",
      " 2   DDD           5565 non-null   object\n",
      "dtypes: object(3)\n",
      "memory usage: 130.6+ KB\n"
     ]
    }
   ],
   "source": [
    "df_DDD.info()"
   ]
  },
  {
   "cell_type": "code",
   "execution_count": 18,
   "metadata": {},
   "outputs": [
    {
     "name": "stdout",
     "output_type": "stream",
     "text": [
      "<class 'pandas.core.frame.DataFrame'>\n",
      "Index: 5570 entries, 0 to 5569\n",
      "Data columns (total 6 columns):\n",
      " #   Column            Non-Null Count  Dtype \n",
      "---  ------            --------------  ----- \n",
      " 0   Sigla Estado      5570 non-null   object\n",
      " 1   ID Estado         5570 non-null   object\n",
      " 2   Cód. Cidade       5570 non-null   object\n",
      " 3   Nome Cidade       5570 non-null   object\n",
      " 4   População         5570 non-null   int32 \n",
      " 5   Cód. IBGE Cidade  5570 non-null   object\n",
      "dtypes: int32(1), object(5)\n",
      "memory usage: 282.9+ KB\n"
     ]
    }
   ],
   "source": [
    "df_pop.info()"
   ]
  },
  {
   "cell_type": "markdown",
   "metadata": {},
   "source": [
    "### Grava base de dados curated"
   ]
  },
  {
   "cell_type": "code",
   "execution_count": 19,
   "metadata": {},
   "outputs": [],
   "source": [
    "salva_db(df_estados, 'dados_curated.db', 'estados_curated')\n",
    "salva_db(df_cidades, 'dados_curated.db', 'cidades_curated')\n",
    "salva_db(df_DDD, 'dados_curated.db', 'DDDs_curated')\n",
    "salva_db(df_pop, 'dados_curated.db', 'populacao_curated')"
   ]
  },
  {
   "cell_type": "markdown",
   "metadata": {},
   "source": [
    "#### Correlaciona base de dados"
   ]
  },
  {
   "cell_type": "code",
   "execution_count": 20,
   "metadata": {},
   "outputs": [],
   "source": [
    "# Remove colunas de df_pop com informações já presentes em outros dataframes\n",
    "df_pop = df_pop.drop(columns=['Sigla Estado', 'ID Estado', 'Cód. Cidade', 'Nome Cidade'])"
   ]
  },
  {
   "cell_type": "code",
   "execution_count": 21,
   "metadata": {},
   "outputs": [],
   "source": [
    "df_completo = df_cidades.merge(df_estados, on = 'Sigla Estado', how = 'left')"
   ]
  },
  {
   "cell_type": "code",
   "execution_count": 22,
   "metadata": {},
   "outputs": [],
   "source": [
    "df_completo = df_completo.merge(df_DDD, on = ['Sigla Estado', 'Nome Cidade'], how = 'left')"
   ]
  },
  {
   "cell_type": "code",
   "execution_count": 23,
   "metadata": {},
   "outputs": [],
   "source": [
    "df_completo = df_completo.merge(df_pop, on = 'Cód. IBGE Cidade', how = 'left')"
   ]
  },
  {
   "cell_type": "code",
   "execution_count": 24,
   "metadata": {},
   "outputs": [
    {
     "name": "stdout",
     "output_type": "stream",
     "text": [
      "<class 'pandas.core.frame.DataFrame'>\n",
      "RangeIndex: 5573 entries, 0 to 5572\n",
      "Data columns (total 8 columns):\n",
      " #   Column            Non-Null Count  Dtype \n",
      "---  ------            --------------  ----- \n",
      " 0   Nome Cidade       5573 non-null   object\n",
      " 1   Cód. IBGE Cidade  5573 non-null   object\n",
      " 2   Sigla Estado      5573 non-null   object\n",
      " 3   ID Estado         5573 non-null   object\n",
      " 4   Nome Estado       5573 non-null   object\n",
      " 5   Região            5573 non-null   object\n",
      " 6   DDD               5387 non-null   object\n",
      " 7   População         5573 non-null   int32 \n",
      "dtypes: int32(1), object(7)\n",
      "memory usage: 326.7+ KB\n"
     ]
    }
   ],
   "source": [
    "df_completo.info()"
   ]
  },
  {
   "cell_type": "code",
   "execution_count": 25,
   "metadata": {},
   "outputs": [
    {
     "data": {
      "text/html": [
       "<div>\n",
       "<style scoped>\n",
       "    .dataframe tbody tr th:only-of-type {\n",
       "        vertical-align: middle;\n",
       "    }\n",
       "\n",
       "    .dataframe tbody tr th {\n",
       "        vertical-align: top;\n",
       "    }\n",
       "\n",
       "    .dataframe thead th {\n",
       "        text-align: right;\n",
       "    }\n",
       "</style>\n",
       "<table border=\"1\" class=\"dataframe\">\n",
       "  <thead>\n",
       "    <tr style=\"text-align: right;\">\n",
       "      <th></th>\n",
       "      <th>Nome Cidade</th>\n",
       "      <th>Cód. IBGE Cidade</th>\n",
       "      <th>Sigla Estado</th>\n",
       "      <th>ID Estado</th>\n",
       "      <th>Nome Estado</th>\n",
       "      <th>Região</th>\n",
       "      <th>DDD</th>\n",
       "      <th>População</th>\n",
       "    </tr>\n",
       "  </thead>\n",
       "  <tbody>\n",
       "    <tr>\n",
       "      <th>0</th>\n",
       "      <td>ALTO ALEGRE DOS PARECIS</td>\n",
       "      <td>1100379</td>\n",
       "      <td>RO</td>\n",
       "      <td>11</td>\n",
       "      <td>RONDÔNIA</td>\n",
       "      <td>NORTE</td>\n",
       "      <td>NaN</td>\n",
       "      <td>13023</td>\n",
       "    </tr>\n",
       "    <tr>\n",
       "      <th>1</th>\n",
       "      <td>ELDORADO DO CARAJÁS</td>\n",
       "      <td>1502954</td>\n",
       "      <td>PA</td>\n",
       "      <td>15</td>\n",
       "      <td>PARÁ</td>\n",
       "      <td>NORTE</td>\n",
       "      <td>NaN</td>\n",
       "      <td>30264</td>\n",
       "    </tr>\n",
       "    <tr>\n",
       "      <th>2</th>\n",
       "      <td>SANTA IZABEL DO PARÁ</td>\n",
       "      <td>1506500</td>\n",
       "      <td>PA</td>\n",
       "      <td>15</td>\n",
       "      <td>PARÁ</td>\n",
       "      <td>NORTE</td>\n",
       "      <td>NaN</td>\n",
       "      <td>68963</td>\n",
       "    </tr>\n",
       "    <tr>\n",
       "      <th>3</th>\n",
       "      <td>COUTO MAGALHÃES</td>\n",
       "      <td>1706001</td>\n",
       "      <td>TO</td>\n",
       "      <td>17</td>\n",
       "      <td>TOCANTINS</td>\n",
       "      <td>NORTE</td>\n",
       "      <td>NaN</td>\n",
       "      <td>5254</td>\n",
       "    </tr>\n",
       "    <tr>\n",
       "      <th>4</th>\n",
       "      <td>TABOCÃO</td>\n",
       "      <td>1708254</td>\n",
       "      <td>TO</td>\n",
       "      <td>17</td>\n",
       "      <td>TOCANTINS</td>\n",
       "      <td>NORTE</td>\n",
       "      <td>NaN</td>\n",
       "      <td>3458</td>\n",
       "    </tr>\n",
       "    <tr>\n",
       "      <th>...</th>\n",
       "      <td>...</td>\n",
       "      <td>...</td>\n",
       "      <td>...</td>\n",
       "      <td>...</td>\n",
       "      <td>...</td>\n",
       "      <td>...</td>\n",
       "      <td>...</td>\n",
       "      <td>...</td>\n",
       "    </tr>\n",
       "    <tr>\n",
       "      <th>181</th>\n",
       "      <td>SANTO ANTÔNIO DO DESCOBERTO</td>\n",
       "      <td>5219753</td>\n",
       "      <td>GO</td>\n",
       "      <td>52</td>\n",
       "      <td>GOIÁS</td>\n",
       "      <td>CENTRO-OESTE</td>\n",
       "      <td>NaN</td>\n",
       "      <td>68654</td>\n",
       "    </tr>\n",
       "    <tr>\n",
       "      <th>182</th>\n",
       "      <td>SÃO LUIZ DO NORTE</td>\n",
       "      <td>5220157</td>\n",
       "      <td>GO</td>\n",
       "      <td>52</td>\n",
       "      <td>GOIÁS</td>\n",
       "      <td>CENTRO-OESTE</td>\n",
       "      <td>NaN</td>\n",
       "      <td>4947</td>\n",
       "    </tr>\n",
       "    <tr>\n",
       "      <th>183</th>\n",
       "      <td>VALPARAÍSO DE GOIÁS</td>\n",
       "      <td>5221858</td>\n",
       "      <td>GO</td>\n",
       "      <td>52</td>\n",
       "      <td>GOIÁS</td>\n",
       "      <td>CENTRO-OESTE</td>\n",
       "      <td>NaN</td>\n",
       "      <td>196967</td>\n",
       "    </tr>\n",
       "    <tr>\n",
       "      <th>184</th>\n",
       "      <td>VILA BOA</td>\n",
       "      <td>5222203</td>\n",
       "      <td>GO</td>\n",
       "      <td>52</td>\n",
       "      <td>GOIÁS</td>\n",
       "      <td>CENTRO-OESTE</td>\n",
       "      <td>NaN</td>\n",
       "      <td>3686</td>\n",
       "    </tr>\n",
       "    <tr>\n",
       "      <th>185</th>\n",
       "      <td>VILA PROPÍCIO</td>\n",
       "      <td>5222302</td>\n",
       "      <td>GO</td>\n",
       "      <td>52</td>\n",
       "      <td>GOIÁS</td>\n",
       "      <td>CENTRO-OESTE</td>\n",
       "      <td>NaN</td>\n",
       "      <td>5646</td>\n",
       "    </tr>\n",
       "  </tbody>\n",
       "</table>\n",
       "<p>186 rows × 8 columns</p>\n",
       "</div>"
      ],
      "text/plain": [
       "                     Nome Cidade Cód. IBGE Cidade Sigla Estado ID Estado  \\\n",
       "0        ALTO ALEGRE DOS PARECIS          1100379           RO        11   \n",
       "1            ELDORADO DO CARAJÁS          1502954           PA        15   \n",
       "2           SANTA IZABEL DO PARÁ          1506500           PA        15   \n",
       "3                COUTO MAGALHÃES          1706001           TO        17   \n",
       "4                        TABOCÃO          1708254           TO        17   \n",
       "..                           ...              ...          ...       ...   \n",
       "181  SANTO ANTÔNIO DO DESCOBERTO          5219753           GO        52   \n",
       "182            SÃO LUIZ DO NORTE          5220157           GO        52   \n",
       "183          VALPARAÍSO DE GOIÁS          5221858           GO        52   \n",
       "184                     VILA BOA          5222203           GO        52   \n",
       "185                VILA PROPÍCIO          5222302           GO        52   \n",
       "\n",
       "    Nome Estado        Região  DDD  População  \n",
       "0      RONDÔNIA         NORTE  NaN      13023  \n",
       "1          PARÁ         NORTE  NaN      30264  \n",
       "2          PARÁ         NORTE  NaN      68963  \n",
       "3     TOCANTINS         NORTE  NaN       5254  \n",
       "4     TOCANTINS         NORTE  NaN       3458  \n",
       "..          ...           ...  ...        ...  \n",
       "181       GOIÁS  CENTRO-OESTE  NaN      68654  \n",
       "182       GOIÁS  CENTRO-OESTE  NaN       4947  \n",
       "183       GOIÁS  CENTRO-OESTE  NaN     196967  \n",
       "184       GOIÁS  CENTRO-OESTE  NaN       3686  \n",
       "185       GOIÁS  CENTRO-OESTE  NaN       5646  \n",
       "\n",
       "[186 rows x 8 columns]"
      ]
     },
     "execution_count": 25,
     "metadata": {},
     "output_type": "execute_result"
    }
   ],
   "source": [
    "df_cidades_sem_DDD = df_completo.loc[df_completo['DDD'].isnull()].reset_index(drop = True)\n",
    "df_cidades_sem_DDD"
   ]
  }
 ],
 "metadata": {
  "kernelspec": {
   "display_name": "Python 3",
   "language": "python",
   "name": "python3"
  },
  "language_info": {
   "codemirror_mode": {
    "name": "ipython",
    "version": 3
   },
   "file_extension": ".py",
   "mimetype": "text/x-python",
   "name": "python",
   "nbconvert_exporter": "python",
   "pygments_lexer": "ipython3",
   "version": "3.11.5"
  },
  "orig_nbformat": 4
 },
 "nbformat": 4,
 "nbformat_minor": 2
}
