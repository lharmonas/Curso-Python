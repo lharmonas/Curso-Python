{
 "cells": [
  {
   "cell_type": "markdown",
   "metadata": {},
   "source": [
    "# Exercícios da Aula 02"
   ]
  },
  {
   "cell_type": "markdown",
   "metadata": {},
   "source": [
    "## Tipos de variáveis"
   ]
  },
  {
   "cell_type": "code",
   "execution_count": 12,
   "metadata": {},
   "outputs": [
    {
     "name": "stdout",
     "output_type": "stream",
     "text": [
      "<class 'int'>  ->  2\n",
      "<class 'float'>  ->  2.0\n",
      "<class 'str'>  ->  Variável de String\n",
      "<class 'bool'>  ->  True\n"
     ]
    }
   ],
   "source": [
    "var_int = 2\n",
    "var_float = 2.0\n",
    "var_string = \"Variável de String\"\n",
    "var_boolean = True\n",
    "\n",
    "print(type(var_int), \" -> \",   var_int)\n",
    "print(type(var_float), \" -> \",   var_float)\n",
    "print(type(var_string), \" -> \",   var_string)\n",
    "print(type(var_boolean), \" -> \",   var_boolean)"
   ]
  },
  {
   "cell_type": "markdown",
   "metadata": {},
   "source": [
    "## Inputs do usuário"
   ]
  },
  {
   "cell_type": "code",
   "execution_count": 16,
   "metadata": {},
   "outputs": [
    {
     "name": "stdout",
     "output_type": "stream",
     "text": [
      "513asdg <class 'str'>\n",
      "2 <class 'int'>\n"
     ]
    }
   ],
   "source": [
    "var_string = input(\"Teste de input\")\n",
    "print(var_string, type(var_string))\n",
    "var_string = 2\n",
    "print(var_string, type(var_string))"
   ]
  }
 ],
 "metadata": {
  "kernelspec": {
   "display_name": "Python 3",
   "language": "python",
   "name": "python3"
  },
  "language_info": {
   "codemirror_mode": {
    "name": "ipython",
    "version": 3
   },
   "file_extension": ".py",
   "mimetype": "text/x-python",
   "name": "python",
   "nbconvert_exporter": "python",
   "pygments_lexer": "ipython3",
   "version": "3.11.4"
  },
  "orig_nbformat": 4
 },
 "nbformat": 4,
 "nbformat_minor": 2
}
