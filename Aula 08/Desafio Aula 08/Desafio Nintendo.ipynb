{
 "cells": [
  {
   "cell_type": "markdown",
   "metadata": {},
   "source": [
    "# Desafio Nintendo\n",
    "## Aspectos a incluir:\n",
    "1. Abra o arquivo \"best-selling game consoles.xlsx\" em um dataframe.\n",
    "2. Substitua a palavra \"NES\" por \"Nintendinho\" no nome dos consoles e deixe todos os nomes em maiúsculos.\n",
    "3. Filtre o nome dos consoles com data de release depois de 2010.\n",
    "4. Dê um describe e info da base, substitua os missing values pela string \"missing\".\n",
    "5. Filtre os consoles que foram descontinuados a menos de 2 anos da data de release."
   ]
  },
  {
   "cell_type": "code",
   "execution_count": 137,
   "metadata": {},
   "outputs": [],
   "source": [
    "import numpy as np\n",
    "import pandas as pd"
   ]
  },
  {
   "cell_type": "code",
   "execution_count": 138,
   "metadata": {},
   "outputs": [],
   "source": [
    "# 1º aspecto: abrir o arquivo e incluir em um dataframe\n",
    "df = pd.read_excel('best-selling game consoles.xlsx', sheet_name='consoles')"
   ]
  },
  {
   "cell_type": "code",
   "execution_count": 139,
   "metadata": {},
   "outputs": [
    {
     "data": {
      "text/plain": [
       "0                         PLAYSTATION 2\n",
       "1                           NINTENDO DS\n",
       "2                       NINTENDO SWITCH\n",
       "3                              GAME BOY\n",
       "4                        GAME BOY COLOR\n",
       "5                         PLAYSTATION 4\n",
       "6                           PLAYSTATION\n",
       "7                                   WII\n",
       "8                         PLAYSTATION 3\n",
       "9                              XBOX 360\n",
       "10                     GAME BOY ADVANCE\n",
       "11                 PLAYSTATION PORTABLE\n",
       "12                         NINTENDO 3DS\n",
       "13                  NINTENDINHO/FAMICOM\n",
       "14                             XBOX ONE\n",
       "15         SUPER NINTENDO/SUPER FAMICOM\n",
       "16                         GAME & WATCH\n",
       "17                          NINTENDO 64\n",
       "18              SEGA GENESIS/MEGA DRIVE\n",
       "19                        PLAYSTATION 5\n",
       "20                           ATARI 2600\n",
       "21                                 XBOX\n",
       "22                             GAMECUBE\n",
       "23                      XBOX SERIES X/S\n",
       "24                                WII U\n",
       "25                     PLAYSTATION VITA\n",
       "26                   SEGA MASTER SYSTEM\n",
       "27                       SEGA GAME GEAR\n",
       "28              PC ENGINE/TURBOGRAFX-16\n",
       "29                          SEGA SATURN\n",
       "30                            DREAMCAST\n",
       "31    MASTER SYSTEM(BRAZILIAN VARIANTS)\n",
       "32                     DENDY(FAMICLONE)\n",
       "33       SUPER NINTENDO CLASSIC EDITION\n",
       "34                  FAMICOM DISK SYSTEM\n",
       "35          NINTENDINHO CLASSIC EDITION\n",
       "36                           WONDERSWAN\n",
       "37                            SEGA PICO\n",
       "38                        COLOR TV-GAME\n",
       "39                        INTELLIVISION\n",
       "40       MEGA DRIVE(BRAZILIAN VARIANTS)\n",
       "41                               N-GAGE\n",
       "42                              SEGA CD\n",
       "43                         COLECOVISION\n",
       "44                     MAGNAVOX ODYSSEY\n",
       "45                     PC ENGINE CD-ROM\n",
       "46                           ATARI 7800\n",
       "47                           ATARI LYNX\n",
       "48                         PHILIPS CD-I\n",
       "49                              TELSTAR\n",
       "50                           ATARI 5200\n",
       "Name: Console Name, dtype: object"
      ]
     },
     "execution_count": 139,
     "metadata": {},
     "output_type": "execute_result"
    }
   ],
   "source": [
    "# 2º aspecto: substituição de NES para Nintendinho\n",
    "# df.loc[df['Console Name'].str.contains('NES')] # Busca somente quais os consoles que sofrerão a alteração\n",
    "# Para evitar casos de aparecer SNINTENDINHO no resultado final, decidi fazer o tratamento dos dados do Super NES e o SNES para Super Nintendo\n",
    "df['Console Name'] = df['Console Name'].str.replace('SNES', 'Super Nintendo').str.replace('Super NES', 'Super Nintendo').str.replace('NES', 'Nintendinho')\n",
    "df['Console Name'] = df['Console Name'].str.upper()\n",
    "df['Console Name']\n"
   ]
  },
  {
   "cell_type": "code",
   "execution_count": 140,
   "metadata": {},
   "outputs": [
    {
     "data": {
      "text/html": [
       "<div>\n",
       "<style scoped>\n",
       "    .dataframe tbody tr th:only-of-type {\n",
       "        vertical-align: middle;\n",
       "    }\n",
       "\n",
       "    .dataframe tbody tr th {\n",
       "        vertical-align: top;\n",
       "    }\n",
       "\n",
       "    .dataframe thead th {\n",
       "        text-align: right;\n",
       "    }\n",
       "</style>\n",
       "<table border=\"1\" class=\"dataframe\">\n",
       "  <thead>\n",
       "    <tr style=\"text-align: right;\">\n",
       "      <th></th>\n",
       "      <th>Console Name</th>\n",
       "      <th>Released Year</th>\n",
       "    </tr>\n",
       "  </thead>\n",
       "  <tbody>\n",
       "    <tr>\n",
       "      <th>2</th>\n",
       "      <td>NINTENDO SWITCH</td>\n",
       "      <td>2017</td>\n",
       "    </tr>\n",
       "    <tr>\n",
       "      <th>5</th>\n",
       "      <td>PLAYSTATION 4</td>\n",
       "      <td>2013</td>\n",
       "    </tr>\n",
       "    <tr>\n",
       "      <th>12</th>\n",
       "      <td>NINTENDO 3DS</td>\n",
       "      <td>2011</td>\n",
       "    </tr>\n",
       "    <tr>\n",
       "      <th>14</th>\n",
       "      <td>XBOX ONE</td>\n",
       "      <td>2013</td>\n",
       "    </tr>\n",
       "    <tr>\n",
       "      <th>19</th>\n",
       "      <td>PLAYSTATION 5</td>\n",
       "      <td>2020</td>\n",
       "    </tr>\n",
       "    <tr>\n",
       "      <th>23</th>\n",
       "      <td>XBOX SERIES X/S</td>\n",
       "      <td>2020</td>\n",
       "    </tr>\n",
       "    <tr>\n",
       "      <th>24</th>\n",
       "      <td>WII U</td>\n",
       "      <td>2012</td>\n",
       "    </tr>\n",
       "    <tr>\n",
       "      <th>25</th>\n",
       "      <td>PLAYSTATION VITA</td>\n",
       "      <td>2011</td>\n",
       "    </tr>\n",
       "    <tr>\n",
       "      <th>33</th>\n",
       "      <td>SUPER NINTENDO CLASSIC EDITION</td>\n",
       "      <td>2017</td>\n",
       "    </tr>\n",
       "    <tr>\n",
       "      <th>35</th>\n",
       "      <td>NINTENDINHO CLASSIC EDITION</td>\n",
       "      <td>2016</td>\n",
       "    </tr>\n",
       "  </tbody>\n",
       "</table>\n",
       "</div>"
      ],
      "text/plain": [
       "                      Console Name  Released Year\n",
       "2                  NINTENDO SWITCH           2017\n",
       "5                    PLAYSTATION 4           2013\n",
       "12                    NINTENDO 3DS           2011\n",
       "14                        XBOX ONE           2013\n",
       "19                   PLAYSTATION 5           2020\n",
       "23                 XBOX SERIES X/S           2020\n",
       "24                           WII U           2012\n",
       "25                PLAYSTATION VITA           2011\n",
       "33  SUPER NINTENDO CLASSIC EDITION           2017\n",
       "35     NINTENDINHO CLASSIC EDITION           2016"
      ]
     },
     "execution_count": 140,
     "metadata": {},
     "output_type": "execute_result"
    }
   ],
   "source": [
    "# 3º aspecto: filtrar consoles lançados pós 2010\n",
    "df.loc[df['Released Year'] > 2010, ['Console Name', 'Released Year']]"
   ]
  },
  {
   "cell_type": "code",
   "execution_count": 141,
   "metadata": {},
   "outputs": [
    {
     "data": {
      "text/html": [
       "<div>\n",
       "<style scoped>\n",
       "    .dataframe tbody tr th:only-of-type {\n",
       "        vertical-align: middle;\n",
       "    }\n",
       "\n",
       "    .dataframe tbody tr th {\n",
       "        vertical-align: top;\n",
       "    }\n",
       "\n",
       "    .dataframe thead th {\n",
       "        text-align: right;\n",
       "    }\n",
       "</style>\n",
       "<table border=\"1\" class=\"dataframe\">\n",
       "  <thead>\n",
       "    <tr style=\"text-align: right;\">\n",
       "      <th></th>\n",
       "      <th>Released Year</th>\n",
       "      <th>Discontinuation Year</th>\n",
       "      <th>Units sold (million)</th>\n",
       "    </tr>\n",
       "  </thead>\n",
       "  <tbody>\n",
       "    <tr>\n",
       "      <th>count</th>\n",
       "      <td>51.000000</td>\n",
       "      <td>51.000000</td>\n",
       "      <td>51.000000</td>\n",
       "    </tr>\n",
       "    <tr>\n",
       "      <th>mean</th>\n",
       "      <td>1996.058824</td>\n",
       "      <td>1844.803922</td>\n",
       "      <td>35.549412</td>\n",
       "    </tr>\n",
       "    <tr>\n",
       "      <th>std</th>\n",
       "      <td>12.378064</td>\n",
       "      <td>543.657319</td>\n",
       "      <td>42.608844</td>\n",
       "    </tr>\n",
       "    <tr>\n",
       "      <th>min</th>\n",
       "      <td>1976.000000</td>\n",
       "      <td>0.000000</td>\n",
       "      <td>1.000000</td>\n",
       "    </tr>\n",
       "    <tr>\n",
       "      <th>25%</th>\n",
       "      <td>1987.500000</td>\n",
       "      <td>1992.000000</td>\n",
       "      <td>3.200000</td>\n",
       "    </tr>\n",
       "    <tr>\n",
       "      <th>50%</th>\n",
       "      <td>1994.000000</td>\n",
       "      <td>1998.000000</td>\n",
       "      <td>13.560000</td>\n",
       "    </tr>\n",
       "    <tr>\n",
       "      <th>75%</th>\n",
       "      <td>2004.500000</td>\n",
       "      <td>2011.500000</td>\n",
       "      <td>60.205000</td>\n",
       "    </tr>\n",
       "    <tr>\n",
       "      <th>max</th>\n",
       "      <td>2020.000000</td>\n",
       "      <td>2020.000000</td>\n",
       "      <td>155.000000</td>\n",
       "    </tr>\n",
       "  </tbody>\n",
       "</table>\n",
       "</div>"
      ],
      "text/plain": [
       "       Released Year  Discontinuation Year  Units sold (million)\n",
       "count      51.000000             51.000000             51.000000\n",
       "mean     1996.058824           1844.803922             35.549412\n",
       "std        12.378064            543.657319             42.608844\n",
       "min      1976.000000              0.000000              1.000000\n",
       "25%      1987.500000           1992.000000              3.200000\n",
       "50%      1994.000000           1998.000000             13.560000\n",
       "75%      2004.500000           2011.500000             60.205000\n",
       "max      2020.000000           2020.000000            155.000000"
      ]
     },
     "execution_count": 141,
     "metadata": {},
     "output_type": "execute_result"
    }
   ],
   "source": [
    "# 4º aspecto, parte a: dar um describe no dataframe. \n",
    "df.describe()"
   ]
  },
  {
   "cell_type": "code",
   "execution_count": 142,
   "metadata": {},
   "outputs": [
    {
     "name": "stdout",
     "output_type": "stream",
     "text": [
      "<class 'pandas.core.frame.DataFrame'>\n",
      "RangeIndex: 51 entries, 0 to 50\n",
      "Data columns (total 7 columns):\n",
      " #   Column                Non-Null Count  Dtype  \n",
      "---  ------                --------------  -----  \n",
      " 0   Console Name          51 non-null     object \n",
      " 1   Type                  51 non-null     object \n",
      " 2   Company               51 non-null     object \n",
      " 3   Released Year         51 non-null     int64  \n",
      " 4   Discontinuation Year  51 non-null     int64  \n",
      " 5   Units sold (million)  51 non-null     float64\n",
      " 6   Remarks               16 non-null     object \n",
      "dtypes: float64(1), int64(2), object(4)\n",
      "memory usage: 2.9+ KB\n"
     ]
    }
   ],
   "source": [
    "# 4º aspecto, parte b: dar um info no dataframe. \n",
    "df.info()"
   ]
  },
  {
   "cell_type": "code",
   "execution_count": 143,
   "metadata": {},
   "outputs": [
    {
     "name": "stdout",
     "output_type": "stream",
     "text": [
      "<class 'pandas.core.frame.DataFrame'>\n",
      "RangeIndex: 51 entries, 0 to 50\n",
      "Data columns (total 7 columns):\n",
      " #   Column                Non-Null Count  Dtype  \n",
      "---  ------                --------------  -----  \n",
      " 0   Console Name          51 non-null     object \n",
      " 1   Type                  51 non-null     object \n",
      " 2   Company               51 non-null     object \n",
      " 3   Released Year         51 non-null     int64  \n",
      " 4   Discontinuation Year  51 non-null     int64  \n",
      " 5   Units sold (million)  51 non-null     float64\n",
      " 6   Remarks               51 non-null     object \n",
      "dtypes: float64(1), int64(2), object(4)\n",
      "memory usage: 2.9+ KB\n"
     ]
    }
   ],
   "source": [
    "# 4º aspecto, parte c: substituir os missing values pela string 'missing'\n",
    "df = df.fillna('missing')\n",
    "df.info()"
   ]
  },
  {
   "cell_type": "code",
   "execution_count": 144,
   "metadata": {},
   "outputs": [
    {
     "data": {
      "text/html": [
       "<div>\n",
       "<style scoped>\n",
       "    .dataframe tbody tr th:only-of-type {\n",
       "        vertical-align: middle;\n",
       "    }\n",
       "\n",
       "    .dataframe tbody tr th {\n",
       "        vertical-align: top;\n",
       "    }\n",
       "\n",
       "    .dataframe thead th {\n",
       "        text-align: right;\n",
       "    }\n",
       "</style>\n",
       "<table border=\"1\" class=\"dataframe\">\n",
       "  <thead>\n",
       "    <tr style=\"text-align: right;\">\n",
       "      <th></th>\n",
       "      <th>Console Name</th>\n",
       "      <th>Released Year</th>\n",
       "      <th>Discontinuation Year</th>\n",
       "    </tr>\n",
       "  </thead>\n",
       "  <tbody>\n",
       "    <tr>\n",
       "      <th>33</th>\n",
       "      <td>SUPER NINTENDO CLASSIC EDITION</td>\n",
       "      <td>2017</td>\n",
       "      <td>2018</td>\n",
       "    </tr>\n",
       "    <tr>\n",
       "      <th>44</th>\n",
       "      <td>MAGNAVOX ODYSSEY</td>\n",
       "      <td>1978</td>\n",
       "      <td>1975</td>\n",
       "    </tr>\n",
       "  </tbody>\n",
       "</table>\n",
       "</div>"
      ],
      "text/plain": [
       "                      Console Name  Released Year  Discontinuation Year\n",
       "33  SUPER NINTENDO CLASSIC EDITION           2017                  2018\n",
       "44                MAGNAVOX ODYSSEY           1978                  1975"
      ]
     },
     "execution_count": 144,
     "metadata": {},
     "output_type": "execute_result"
    }
   ],
   "source": [
    "# 5º aspecto: filtrar consoles descontinuados em menos de 2 anos\n",
    "df.loc[(df['Discontinuation Year'] != 0) & ((df['Discontinuation Year'] - df['Released Year'])<2), ['Console Name', 'Released Year', 'Discontinuation Year']]"
   ]
  },
  {
   "cell_type": "markdown",
   "metadata": {},
   "source": [
    "Identificado que o console Magnavox Odyssey apresenta um erro nos dados inputados, pois é impossível ele lançar depois de ser descontinuado.\n",
    "Código abaixo feito para o ajuste dos dados conforme página do [Wikipedia](https://en.wikipedia.org/wiki/Magnavox_Odyssey):\n",
    "* De: _Release Year_ = 1978\n",
    "* Para: _Release Year_ = 1972"
   ]
  },
  {
   "cell_type": "code",
   "execution_count": 145,
   "metadata": {},
   "outputs": [
    {
     "data": {
      "text/html": [
       "<div>\n",
       "<style scoped>\n",
       "    .dataframe tbody tr th:only-of-type {\n",
       "        vertical-align: middle;\n",
       "    }\n",
       "\n",
       "    .dataframe tbody tr th {\n",
       "        vertical-align: top;\n",
       "    }\n",
       "\n",
       "    .dataframe thead th {\n",
       "        text-align: right;\n",
       "    }\n",
       "</style>\n",
       "<table border=\"1\" class=\"dataframe\">\n",
       "  <thead>\n",
       "    <tr style=\"text-align: right;\">\n",
       "      <th></th>\n",
       "      <th>Console Name</th>\n",
       "      <th>Released Year</th>\n",
       "      <th>Discontinuation Year</th>\n",
       "    </tr>\n",
       "  </thead>\n",
       "  <tbody>\n",
       "    <tr>\n",
       "      <th>33</th>\n",
       "      <td>SUPER NINTENDO CLASSIC EDITION</td>\n",
       "      <td>2017</td>\n",
       "      <td>2018</td>\n",
       "    </tr>\n",
       "  </tbody>\n",
       "</table>\n",
       "</div>"
      ],
      "text/plain": [
       "                      Console Name  Released Year  Discontinuation Year\n",
       "33  SUPER NINTENDO CLASSIC EDITION           2017                  2018"
      ]
     },
     "execution_count": 145,
     "metadata": {},
     "output_type": "execute_result"
    }
   ],
   "source": [
    "df.loc[df['Console Name']=='MAGNAVOX ODYSSEY', 'Released Year'] = 1972\n",
    "\n",
    "# 5º aspecto corrigido: filtrar consoles descontinuados em menos de 2 anos\n",
    "df.loc[(df['Discontinuation Year'] != 0) & ((df['Discontinuation Year'] - df['Released Year'])<2), ['Console Name', 'Released Year', 'Discontinuation Year']]\n"
   ]
  }
 ],
 "metadata": {
  "kernelspec": {
   "display_name": "Python 3",
   "language": "python",
   "name": "python3"
  },
  "language_info": {
   "codemirror_mode": {
    "name": "ipython",
    "version": 3
   },
   "file_extension": ".py",
   "mimetype": "text/x-python",
   "name": "python",
   "nbconvert_exporter": "python",
   "pygments_lexer": "ipython3",
   "version": "3.11.4"
  },
  "orig_nbformat": 4
 },
 "nbformat": 4,
 "nbformat_minor": 2
}
