{
 "cells": [
  {
   "cell_type": "markdown",
   "metadata": {},
   "source": []
  },
  {
   "cell_type": "code",
   "execution_count": 1,
   "metadata": {},
   "outputs": [],
   "source": [
    "from geometria import Retangulo"
   ]
  },
  {
   "cell_type": "code",
   "execution_count": 2,
   "metadata": {},
   "outputs": [],
   "source": [
    "teste = Retangulo(13,5)"
   ]
  },
  {
   "cell_type": "code",
   "execution_count": 3,
   "metadata": {},
   "outputs": [
    {
     "name": "stdout",
     "output_type": "stream",
     "text": [
      "Retângulo de: 13 x 5\n",
      "Área do retângulo: 65\n",
      "Perímetro do retângulo: 36\n"
     ]
    }
   ],
   "source": [
    "print(f'Retângulo de: {teste.base} x {teste.altura}')\n",
    "print(f'Área do retângulo: {teste.area()}')\n",
    "print(f'Perímetro do retângulo: {teste.perimetro()}')\n"
   ]
  },
  {
   "cell_type": "code",
   "execution_count": 1,
   "metadata": {},
   "outputs": [],
   "source": [
    "from contas import *\n",
    "conta01 = Conta(100,'João Pedro')\n",
    "conta02 = Conta(50,'Matheus Rocha')"
   ]
  },
  {
   "cell_type": "code",
   "execution_count": 2,
   "metadata": {},
   "outputs": [
    {
     "name": "stdout",
     "output_type": "stream",
     "text": [
      "Olá João Pedro!\n",
      "Seu saldo é de: R$100\n"
     ]
    }
   ],
   "source": [
    "conta01.mostra_saldo()"
   ]
  },
  {
   "cell_type": "code",
   "execution_count": 6,
   "metadata": {},
   "outputs": [
    {
     "name": "stdout",
     "output_type": "stream",
     "text": [
      "Olá João Pedro!\n",
      "Seu saldo é de: R$40\n"
     ]
    }
   ],
   "source": [
    "conta01.depositar(40)"
   ]
  }
 ],
 "metadata": {
  "kernelspec": {
   "display_name": "Python 3",
   "language": "python",
   "name": "python3"
  },
  "language_info": {
   "codemirror_mode": {
    "name": "ipython",
    "version": 3
   },
   "file_extension": ".py",
   "mimetype": "text/x-python",
   "name": "python",
   "nbconvert_exporter": "python",
   "pygments_lexer": "ipython3",
   "version": "3.11.4"
  },
  "orig_nbformat": 4
 },
 "nbformat": 4,
 "nbformat_minor": 2
}
